{
 "cells": [
  {
   "cell_type": "markdown",
   "metadata": {},
   "source": [
    "네이버 유명인 얼굴 인식 API"
   ]
  },
  {
   "cell_type": "code",
   "execution_count": 2,
   "metadata": {},
   "outputs": [
    {
     "name": "stdout",
     "output_type": "stream",
     "text": [
      "{\"info\":{\"size\":{\"width\":500,\"height\":666},\"faceCount\":1},\"faces\":[{\"celebrity\":{\"value\":\"안소희\",\"confidence\":0.671994}}]}\n"
     ]
    }
   ],
   "source": [
    "import os\n",
    "import sys\n",
    "import requests\n",
    "client_id = \"T53JASKMp1Jry9Ea8IM3\"\n",
    "client_secret = \"1W3gR6cBoZ\"\n",
    "# url = \"https://openapi.naver.com/v1/vision/face\" // 얼굴감지\n",
    "url = \"https://openapi.naver.com/v1/vision/celebrity\" \n",
    "files = {'image': open('ITZY_YEJI.jpg', 'rb')}\n",
    "headers = {'X-Naver-Client-Id': client_id, 'X-Naver-Client-Secret': client_secret }\n",
    "response = requests.post(url,  files=files, headers=headers)\n",
    "rescode = response.status_code\n",
    "if(rescode==200):\n",
    "    print (response.text)\n",
    "else:\n",
    "    print(\"Error Code:\" + rescode)"
   ]
  },
  {
   "cell_type": "markdown",
   "metadata": {},
   "source": [
    "![예지](ITZY_YEJI.jpg)"
   ]
  },
  {
   "cell_type": "code",
   "execution_count": 3,
   "metadata": {},
   "outputs": [
    {
     "name": "stdout",
     "output_type": "stream",
     "text": [
      "{\"info\":{\"size\":{\"width\":720,\"height\":960},\"faceCount\":1},\"faces\":[{\"celebrity\":{\"value\":\"권은빈\",\"confidence\":0.50096}}]}\n"
     ]
    }
   ],
   "source": [
    "files = {'image':open('861a6759e4d2f5f1c9ff0fbf3aa126f3.jpg','rb')}\n",
    "response = requests.post(url,  files=files, headers=headers)\n",
    "rescode = response.status_code\n",
    "if(rescode==200):\n",
    "    print (response.text)\n",
    "else:\n",
    "    print(\"Error Code:\" + rescode)"
   ]
  },
  {
   "cell_type": "markdown",
   "metadata": {},
   "source": [
    "![예지](861a6759e4d2f5f1c9ff0fbf3aa126f3.jpg)"
   ]
  }
 ],
 "metadata": {
  "kernelspec": {
   "display_name": "Python [conda env:root]",
   "language": "python",
   "name": "conda-root-py"
  },
  "language_info": {
   "codemirror_mode": {
    "name": "ipython",
    "version": 3
   },
   "file_extension": ".py",
   "mimetype": "text/x-python",
   "name": "python",
   "nbconvert_exporter": "python",
   "pygments_lexer": "ipython3",
   "version": "3.7.1"
  }
 },
 "nbformat": 4,
 "nbformat_minor": 2
}
