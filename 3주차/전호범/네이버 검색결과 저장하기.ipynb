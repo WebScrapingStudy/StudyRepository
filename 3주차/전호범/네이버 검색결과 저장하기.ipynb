{
  "cells": [{
      "cell_type": "markdown",
      "metadata": {},
      "source": [
        "### 검색 api"
      ]
    },
    {
      "cell_type": "code",
      "execution_count": 44,
      "metadata": {},
      "outputs": [],
      "source": [
        "import requests\n",
        "from urllib.parse import urlparse\n",
        "\n",
        "def call(keyword,start):\n",
        "    r = open('naver_api.txt', mode='rt', encoding='utf-8')\n",
        "    url = \"https://openapi.naver.com/v1/search/blog?query=\" + keyword + \"&display=100&start=\"+str(start)\n",
        "    header = {\"X-Naver-Client-Id\":r.read(20),\"X-Naver-Client-Secret\":r.read(10)}\n",
        "    result = requests.get(urlparse(url).geturl(),headers=header)\n",
        "    print(result.status_code)\n",
        "    return result.json()"
      ]
    },
    {
      "cell_type": "code",
      "execution_count": 56,
      "metadata": {
        "scrolled": true
      },
      "outputs": [],
      "source": [
        "def get1000Result(keyword):\n",
        "    list = []\n",
        "    for num in range(0,10):\n",
        "        list = list + call(keyword,num*100+1)['items']\n",
        "    return list"
      ]
    },
    {
      "cell_type": "code",
      "execution_count": 57,
      "metadata": {},
      "outputs": [{
        "name": "stdout",
        "output_type": "stream",
        "text": [
          "200\n",
          "200\n",
          "200\n",
          "200\n",
          "200\n",
          "200\n",
          "200\n",
          "200\n",
          "200\n",
          "200\n"
        ]
      }],
      "source": [
        "result = get1000Result(\"부경대 맛집\")"
      ]
    },
    {
      "cell_type": "code",
      "execution_count": 64,
      "metadata": {},
      "outputs": [{
        "name": "stdout",
        "output_type": "stream",
        "text": [
          "200\n",
          "200\n",
          "200\n",
          "200\n",
          "200\n",
          "200\n",
          "200\n",
          "200\n",
          "200\n",
          "200\n"
        ]
      }],
      "source": [
        "result2 = get1000Result(\"경성대 맛집\")"
      ]
    },
    {
      "cell_type": "code",
      "execution_count": 65,
      "metadata": {},
      "outputs": [{
        "data": {
          "text/plain": [
            "1802012"
          ]
        },
        "execution_count": 65,
        "metadata": {},
        "output_type": "execute_result"
      }],
      "source": [
        "import json\n",
        "file = open(\"./pknu.json\",\"w+\")\n",
        "file.write(json.dumps(result+result2))"
      ]
    },
    {
      "cell_type": "markdown",
      "metadata": {},
      "source": [
        "### Pandas"
      ]
    },
    {
      "cell_type": "code",
      "execution_count": 66,
      "metadata": {},
      "outputs": [],
      "source": [
        "import pandas as pd"
      ]
    },
    {
      "cell_type": "code",
      "execution_count": 67,
      "metadata": {},
      "outputs": [{
        "name": "stdout",
        "output_type": "stream",
        "text": [
          "bloggerlink    2000\n",
          "bloggername    2000\n",
          "description    2000\n",
          "link           2000\n",
          "postdate       2000\n",
          "title          2000\n",
          "dtype: int64\n"
        ]
      }],
      "source": [
        "df = pd.read_json(\"./pknu.json\")\n",
        "print(df.count())"
      ]
    },
    {
      "cell_type": "code",
      "execution_count": 76,
      "metadata": {
        "scrolled": true
      },
      "outputs": [],
      "source": [
        "dfSum = df.groupby(\"bloggername\").count()"
      ]
    },
    {
      "cell_type": "markdown",
      "metadata": {},
      "source": [
        "1061 rows x 5 columns"
      ]
    },
    {
      "cell_type": "code",
      "execution_count": 72,
      "metadata": {
        "scrolled": true
      },
      "outputs": [],
      "source": [
        "dfSum = df.groupby(\"link\").count()"
      ]
    },
    {
      "cell_type": "markdown",
      "metadata": {},
      "source": [
        "1863 rows x 5 columns"
      ]
    }
  ],
  "metadata": {
    "kernelspec": {
      "display_name": "Python [conda env:root]",
      "language": "python",
      "name": "conda-root-py"
    },
    "language_info": {
      "codemirror_mode": {
        "name": "ipython",
        "version": 3
      },
      "file_extension": ".py",
      "mimetype": "text/x-python",
      "name": "python",
      "nbconvert_exporter": "python",
      "pygments_lexer": "ipython3",
      "version": "3.7.1"
    }
  },
  "nbformat": 4,
  "nbformat_minor": 2
}
