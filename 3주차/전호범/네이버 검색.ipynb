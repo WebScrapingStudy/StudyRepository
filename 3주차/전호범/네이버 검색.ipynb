{
  "cells": [{
      "cell_type": "markdown",
      "metadata": {},
      "source": [
        "### 네이버 검색 API"
      ]
    },
    {
      "cell_type": "code",
      "execution_count": 10,
      "metadata": {},
      "outputs": [{
        "name": "stdout",
        "output_type": "stream",
        "text": [
          "{\n",
          "\"lastBuildDate\": \"Sat, 30 Mar 2019 18:30:55 +0900\",\n",
          "\"total\": 33718,\n",
          "\"start\": 1,\n",
          "\"display\": 10,\n",
          "\"items\": [\n",
          "{\n",
          "\"title\": \"부산 대연동 <b>맛집</b> <b>부경대</b> 옆 파니니숲\",\n",
          "\"link\": \"https://blog.naver.com/cmy989?Redirect=Log&amp;logNo=221492214388\",\n",
          "\"description\": \"부산 대연동 맛집 부경대 옆 파니니숲 날씨마저 사랑스럽던 날, 저는 친구를 만나서 오래간만에... 역시 사람은 감수성의 동물이라더니 화사한 분위기만으로도 <b>부경대 맛집</b> 에서 제 감정이 살아나는 기분이였지... \",\n",
          "\"bloggername\": \"꽃묭블로그\",\n",
          "\"bloggerlink\": \"https://blog.naver.com/cmy989\",\n",
          "\"postdate\": \"20190319\"\n",
          "\n",
          "},\n",
          "{\n",
          "\"title\": \"<b>부경대 맛집</b> 점심특선 술집 가성비 굿!\",\n",
          "\"link\": \"https://blog.naver.com/diwldus79?Redirect=Log&amp;logNo=221483528013\",\n",
          "\"description\": \"부경대 술집으로 소개해도 좋을 듯하고, 부경대 점심, <b>부경대 맛집</b>으로 소개해도 모두 맞을 듯하네요. 그런데 이 사진만 보면? 고깃집으로 소개해도 맞을 듯합니다. 점심때 이렇게 시켜서 먹으면 임금님... \",\n",
          "\"bloggername\": \"희망이 가득한 곳\",\n",
          "\"bloggerlink\": \"https://blog.naver.com/diwldus79\",\n",
          "\"postdate\": \"20190308\"\n",
          "\n",
          "},\n",
          "{\n",
          "\"title\": \"<b>부경대 맛집</b> 갈비찜 알차게 똑딱!\",\n",
          "\"link\": \"https://blog.naver.com/nu0712?Redirect=Log&amp;logNo=221468535119\",\n",
          "\"description\": \"걸어서 3분이면 도착할 수 있었고 다른 관광지와도 거리가 멀지 않아서 좋았어요 맛, 서비스, 위치 모두 훌륭했던 맛 집이었답니다 주소 : 부산시 남구 유엔 평화로 32 1층 전화 : 051-622-1900 <b>부경대 맛 집</b>, 용군 갈비찜\",\n",
          "\"bloggername\": \"♡ 누봉이의 일상블로그 ♡\",\n",
          "\"bloggerlink\": \"https://blog.naver.com/nu0712\",\n",
          "\"postdate\": \"20190218\"\n",
          "\n",
          "},\n",
          "{\n",
          "\"title\": \"<b>부경대맛집</b>, 중국에서 먹던 그 맛 : 마라촨\",\n",
          "\"link\": \"https://blog.naver.com/blue_222?Redirect=Log&amp;logNo=221455579302\",\n",
          "\"description\": \"소개할 맛집이다. 이곳에 메인메뉴는 훠궈인데 일반적인 훠궈 방식이 아닌, 재료들이 처음부터 꼬치에 꽂아서 나오는 정확히 말하자면 '마라촨'이라고 볼수 있다. # <b>부경대 맛집</b>, 부경대 훠궈, 마라촨... \",\n",
          "\"bloggername\": \"LimMore\",\n",
          "\"bloggerlink\": \"https://blog.naver.com/blue_222\",\n",
          "\"postdate\": \"20190131\"\n",
          "\n",
          "},\n",
          "{\n",
          "\"title\": \"부산 남천동 <b>맛집</b> <b>부경대</b> 김밥 집\",\n",
          "\"link\": \"https://blog.naver.com/yaguk12?Redirect=Log&amp;logNo=221481702910\",\n",
          "\"description\": \"#남천동<b>맛집</b> #<b>부경대</b>김밥 #김면장 위치 전화번호 051-624-2223 주소 부산 수영구 수영로384번길 19 남천동 255 남천파크 남천역 3번출구로 나오면 이렇게 올리브영이 보인다. 항상 이걸로 기억함. 간만에 또 여기에... \",\n",
          "\"bloggername\": \"부싼싸람\",\n",
          "\"bloggerlink\": \"https://blog.naver.com/yaguk12\",\n",
          "\"postdate\": \"20190306\"\n",
          "\n",
          "},\n",
          "{\n",
          "\"title\": \"<b>부경대 맛집</b> 근처에선 제일잘나가~\",\n",
          "\"link\": \"https://blog.naver.com/jine1272?Redirect=Log&amp;logNo=221404790588\",\n",
          "\"description\": \"싶어서 방문했습니다 주소는 '부산 남구 수영로334번길 56 번지' 이었고, 경성대와 부경대 사이에 위치하고 있어요! 특히 <b>부경대 맛집</b>으로 소문난 이유가 있더라구요~ 경대,부대 학생들 모두가 가기에 딱 좋은... \",\n",
          "\"bloggername\": \"지니의 비밀일기\",\n",
          "\"bloggerlink\": \"https://blog.naver.com/jine1272\",\n",
          "\"postdate\": \"20181123\"\n",
          "\n",
          "},\n",
          "{\n",
          "\"title\": \"경성대<b>맛집</b> / <b>부경대</b>떡볶이<b>맛집</b> , 라파스 [La Paz]\",\n",
          "\"link\": \"https://blog.naver.com/cjswo8754?Redirect=Log&amp;logNo=221451271405\",\n",
          "\"description\": \"ㅎㅎㅎ 부경대떡볶이 / 경성대떡볶이 , 라파스 La Paz 주소는 부산광역시 남구 수영로322번길 49-5 1층 #<b>부경대맛집</b> #경성대맛집 #부경대떡볶이 #경성대떡볶이 #경성대데이트코스 #경성대부경대 #부산떡볶이맛집... \",\n",
          "\"bloggername\": \"별일없이산다\",\n",
          "\"bloggerlink\": \"https://blog.naver.com/cjswo8754\",\n",
          "\"postdate\": \"20190126\"\n",
          "\n",
          "},\n",
          "{\n",
          "\"title\": \"[대연동고기집] 경성대<b>부경대맛집</b> 방이편백육분삼십 - 인싸푸드... \",\n",
          "\"link\": \"https://blog.naver.com/skepsis?Redirect=Log&amp;logNo=221496761917\",\n",
          "\"description\": \"#대연동고기집 #대연동맛집 #경성대고기집 #경성대맛집 #부경대고기집 #<b>부경대맛집</b> #편백찜 #방이편백 #방이편백윤분삼십 #경성대부경대고기집 #경성대<b>부경대맛집</b> #대연동데이트 여러분 편백찜 드셔보셨나요?... \",\n",
          "\"bloggername\": \"사랑의 온도\",\n",
          "\"bloggerlink\": \"https://blog.naver.com/skepsis\",\n",
          "\"postdate\": \"20190325\"\n",
          "\n",
          "},\n",
          "{\n",
          "\"title\": \"<b>부경대 맛집</b> 아카렌 탄탄멘 즐겨요\",\n",
          "\"link\": \"https://blog.naver.com/midgetcarin?Redirect=Log&amp;logNo=221493534352\",\n",
          "\"description\": \"안녕하세요 이가지예요 요즘은 새학기여서 경성대 부경대 주위에 사람들이 정말 많더라구요 그리고 부경대쪽에 맛집들이 많아서 그 골목이 유난히 붐비는거 같아요 오늘은 <b>부경대맛집</b> 아카렌 라멘집에 다녀온... \",\n",
          "\"bloggername\": \"이가지의 리얼리뷰\",\n",
          "\"bloggerlink\": \"https://blog.naver.com/midgetcarin\",\n",
          "\"postdate\": \"20190321\"\n",
          "\n",
          "},\n",
          "{\n",
          "\"title\": \"<b>부경대</b> ▒ 중국 전통 훠궈 전문점! 샤브샤브 무한리필 <b>맛집</b>... \",\n",
          "\"link\": \"https://blog.naver.com/ggong5221?Redirect=Log&amp;logNo=221258988716\",\n",
          "\"description\": \"[ 부산 맛집 / 경성대<b>부경대 맛집</b> - 용하 반점 ] - 중국 전통 훠궈 샤브샤브무한리필 전문 중국집 우리는... 경성대 부경대 훠궈 맛집 용하반점이 있는 3층으로 올라가 봅니다. 들어서자마자 중국 분위기 !! 요것은... \",\n",
          "\"bloggername\": \"쪼물쪼물 꽁장장 ▒ B i t t e r s w e e t ♥\",\n",
          "\"bloggerlink\": \"https://blog.naver.com/ggong5221\",\n",
          "\"postdate\": \"20180423\"\n",
          "\n",
          "}\n",
          "]\n",
          "}\n",
          "\n"
        ]
      }],
      "source": [
        "import os\n",
        "import sys\n",
        "import urllib.request\n",
        "r = open('naver_api.txt', mode='rt', encoding='utf-8')\n",
        "client_id = r.read(20)\n",
        "\n",
        "client_secret = r.read(10)\n",
        "encText = urllib.parse.quote(\"부경대 맛집\")\n",
        "url = \"https://openapi.naver.com/v1/search/blog?query=\" + encText # json 결과\n",
        "# url = \"https://openapi.naver.com/v1/search/blog.xml?query=\" + encText # xml 결과\n",
        "request = urllib.request.Request(url)\n",
        "request.add_header(\"X-Naver-Client-Id\",client_id)\n",
        "request.add_header(\"X-Naver-Client-Secret\",client_secret)\n",
        "response = urllib.request.urlopen(request)\n",
        "rescode = response.getcode()\n",
        "if(rescode==200):\n",
        "    response_body = response.read()\n",
        "    print(response_body.decode('utf-8'))\n",
        "else:\n",
        "    print(\"Error Code:\" + rescode)"
      ]
    },
    {
      "cell_type": "markdown",
      "metadata": {},
      "source": [
        "### 심플코드"
      ]
    },
    {
      "cell_type": "code",
      "execution_count": 11,
      "metadata": {},
      "outputs": [{
        "name": "stdout",
        "output_type": "stream",
        "text": [
          "{'lastBuildDate': 'Sat, 30 Mar 2019 18:38:51 +0900', 'total': 33718, 'start': 1, 'display': 10, 'items': [{'title': '부산 대연동 <b>맛집</b> <b>부경대</b> 옆 파니니숲', 'link': 'https://blog.naver.com/cmy989?Redirect=Log&amp;logNo=221492214388', 'description': '부산 대연동 맛집 부경대 옆 파니니숲 날씨마저 사랑스럽던 날, 저는 친구를 만나서 오래간만에... 역시 사람은 감수성의 동물이라더니 화사한 분위기만으로도 <b>부경대 맛집</b> 에서 제 감정이 살아나는 기분이였지... ', 'bloggername': '꽃묭블로그', 'bloggerlink': 'https://blog.naver.com/cmy989', 'postdate': '20190319'}, {'title': '<b>부경대 맛집</b> 점심특선 술집 가성비 굿!', 'link': 'https://blog.naver.com/diwldus79?Redirect=Log&amp;logNo=221483528013', 'description': '부경대 술집으로 소개해도 좋을 듯하고, 부경대 점심, <b>부경대 맛집</b>으로 소개해도 모두 맞을 듯하네요. 그런데 이 사진만 보면? 고깃집으로 소개해도 맞을 듯합니다. 점심때 이렇게 시켜서 먹으면 임금님... ', 'bloggername': '희망이 가득한 곳', 'bloggerlink': 'https://blog.naver.com/diwldus79', 'postdate': '20190308'}, {'title': '<b>부경대 맛집</b> 갈비찜 알차게 똑딱!', 'link': 'https://blog.naver.com/nu0712?Redirect=Log&amp;logNo=221468535119', 'description': '걸어서 3분이면 도착할 수 있었고 다른 관광지와도 거리가 멀지 않아서 좋았어요 맛, 서비스, 위치 모두 훌륭했던 맛 집이었답니다 주소 : 부산시 남구 유엔 평화로 32 1층 전화 : 051-622-1900 <b>부경대 맛 집</b>, 용군 갈비찜', 'bloggername': '♡ 누봉이의 일상블로그 ♡', 'bloggerlink': 'https://blog.naver.com/nu0712', 'postdate': '20190218'}, {'title': '<b>부경대맛집</b>, 중국에서 먹던 그 맛 : 마라촨', 'link': 'https://blog.naver.com/blue_222?Redirect=Log&amp;logNo=221455579302', 'description': \"소개할 맛집이다. 이곳에 메인메뉴는 훠궈인데 일반적인 훠궈 방식이 아닌, 재료들이 처음부터 꼬치에 꽂아서 나오는 정확히 말하자면 '마라촨'이라고 볼수 있다. # <b>부경대 맛집</b>, 부경대 훠궈, 마라촨... \", 'bloggername': 'LimMore', 'bloggerlink': 'https://blog.naver.com/blue_222', 'postdate': '20190131'}, {'title': '부산 남천동 <b>맛집</b> <b>부경대</b> 김밥 집', 'link': 'https://blog.naver.com/yaguk12?Redirect=Log&amp;logNo=221481702910', 'description': '#남천동<b>맛집</b> #<b>부경대</b>김밥 #김면장 위치 전화번호 051-624-2223 주소 부산 수영구 수영로384번길 19 남천동 255 남천파크 남천역 3번출구로 나오면 이렇게 올리브영이 보인다. 항상 이걸로 기억함. 간만에 또 여기에... ', 'bloggername': '부싼싸람', 'bloggerlink': 'https://blog.naver.com/yaguk12', 'postdate': '20190306'}, {'title': '<b>부경대 맛집</b> 근처에선 제일잘나가~', 'link': 'https://blog.naver.com/jine1272?Redirect=Log&amp;logNo=221404790588', 'description': \"싶어서 방문했습니다 주소는 '부산 남구 수영로334번길 56 번지' 이었고, 경성대와 부경대 사이에 위치하고 있어요! 특히 <b>부경대 맛집</b>으로 소문난 이유가 있더라구요~ 경대,부대 학생들 모두가 가기에 딱 좋은... \", 'bloggername': '지니의 비밀일기', 'bloggerlink': 'https://blog.naver.com/jine1272', 'postdate': '20181123'}, {'title': '경성대<b>맛집</b> / <b>부경대</b>떡볶이<b>맛집</b> , 라파스 [La Paz]', 'link': 'https://blog.naver.com/cjswo8754?Redirect=Log&amp;logNo=221451271405', 'description': 'ㅎㅎㅎ 부경대떡볶이 / 경성대떡볶이 , 라파스 La Paz 주소는 부산광역시 남구 수영로322번길 49-5 1층 #<b>부경대맛집</b> #경성대맛집 #부경대떡볶이 #경성대떡볶이 #경성대데이트코스 #경성대부경대 #부산떡볶이맛집... ', 'bloggername': '별일없이산다', 'bloggerlink': 'https://blog.naver.com/cjswo8754', 'postdate': '20190126'}, {'title': '[대연동고기집] 경성대<b>부경대맛집</b> 방이편백육분삼십 - 인싸푸드... ', 'link': 'https://blog.naver.com/skepsis?Redirect=Log&amp;logNo=221496761917', 'description': '#대연동고기집 #대연동맛집 #경성대고기집 #경성대맛집 #부경대고기집 #<b>부경대맛집</b> #편백찜 #방이편백 #방이편백윤분삼십 #경성대부경대고기집 #경성대<b>부경대맛집</b> #대연동데이트 여러분 편백찜 드셔보셨나요?... ', 'bloggername': '사랑의 온도', 'bloggerlink': 'https://blog.naver.com/skepsis', 'postdate': '20190325'}, {'title': '<b>부경대 맛집</b> 아카렌 탄탄멘 즐겨요', 'link': 'https://blog.naver.com/midgetcarin?Redirect=Log&amp;logNo=221493534352', 'description': '안녕하세요 이가지예요 요즘은 새학기여서 경성대 부경대 주위에 사람들이 정말 많더라구요 그리고 부경대쪽에 맛집들이 많아서 그 골목이 유난히 붐비는거 같아요 오늘은 <b>부경대맛집</b> 아카렌 라멘집에 다녀온... ', 'bloggername': '이가지의 리얼리뷰', 'bloggerlink': 'https://blog.naver.com/midgetcarin', 'postdate': '20190321'}, {'title': '<b>부경대</b> ▒ 중국 전통 훠궈 전문점! 샤브샤브 무한리필 <b>맛집</b>... ', 'link': 'https://blog.naver.com/ggong5221?Redirect=Log&amp;logNo=221258988716', 'description': '[ 부산 맛집 / 경성대<b>부경대 맛집</b> - 용하 반점 ] - 중국 전통 훠궈 샤브샤브무한리필 전문 중국집 우리는... 경성대 부경대 훠궈 맛집 용하반점이 있는 3층으로 올라가 봅니다. 들어서자마자 중국 분위기 !! 요것은... ', 'bloggername': '쪼물쪼물 꽁장장 ▒ B i t t e r s w e e t ♥', 'bloggerlink': 'https://blog.naver.com/ggong5221', 'postdate': '20180423'}]}\n"
        ]
      }],
      "source": [
        "import requests\n",
        "from urllib.parse import urlparse\n",
        "\n",
        "r = open('naver_api.txt', mode='rt', encoding='utf-8')\n",
        "keyword = \"부경대 맛집\"\n",
        "url = \"https://openapi.naver.com/v1/search/blog?query=\" + keyword\n",
        "header = {\"X-Naver-Client-Id\":r.read(20),\"X-Naver-Client-Secret\":r.read(10)}\n",
        "result = requests.get(urlparse(url).geturl(),headers=header)\n",
        "json_obj = result.json()\n",
        "print(json_obj)"
      ]
    },
    {
      "cell_type": "markdown",
      "metadata": {},
      "source": [
        "### Excel"
      ]
    },
    {
      "cell_type": "code",
      "execution_count": 12,
      "metadata": {},
      "outputs": [{
        "data": {
          "text/plain": [
            "3"
          ]
        },
        "execution_count": 12,
        "metadata": {},
        "output_type": "execute_result"
      }],
      "source": [
        "file = open(\"./hello.csv\",\"w+\")\n",
        "file.write(\"Hello\"+\"\\n\")\n",
        "file.write(\"bye\"+\"\\n\")"
      ]
    },
    {
      "cell_type": "markdown",
      "metadata": {},
      "source": [
        "간단!"
      ]
    }
  ],
  "metadata": {
    "kernelspec": {
      "display_name": "Python [conda env:root]",
      "language": "python",
      "name": "conda-root-py"
    },
    "language_info": {
      "codemirror_mode": {
        "name": "ipython",
        "version": 3
      },
      "file_extension": ".py",
      "mimetype": "text/x-python",
      "name": "python",
      "nbconvert_exporter": "python",
      "pygments_lexer": "ipython3",
      "version": "3.7.1"
    }
  },
  "nbformat": 4,
  "nbformat_minor": 2
}
