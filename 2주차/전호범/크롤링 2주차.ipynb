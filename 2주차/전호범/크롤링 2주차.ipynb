{
 "cells": [
  {
   "cell_type": "markdown",
   "metadata": {},
   "source": [
    "## 네이버 첫페이지 받아오기\n",
    "\n",
    "#### pip install urllib"
   ]
  },
  {
   "cell_type": "code",
   "execution_count": 3,
   "metadata": {},
   "outputs": [],
   "source": [
    "import urllib.request\n",
    "\n",
    "url = \"https://www.naver.com\"\n",
    "html = urllib.request.urlopen(url)\n"
   ]
  },
  {
   "cell_type": "markdown",
   "metadata": {},
   "source": [
    "## 뷰티풀 솝 사용하기\n",
    "\n",
    "#### pip install bs4"
   ]
  },
  {
   "cell_type": "code",
   "execution_count": 4,
   "metadata": {},
   "outputs": [
    {
     "name": "stdout",
     "output_type": "stream",
     "text": [
      "<class 'bs4.BeautifulSoup'>\n",
      "<html><div>hello</div></html>\n",
      "<div>hello</div>\n"
     ]
    }
   ],
   "source": [
    "import bs4\n",
    "\n",
    "str = \"<html><div>hello</div></html>\"\n",
    "bs_obj = bs4.BeautifulSoup(str,\"html.parser\")\n",
    "\n",
    "print(type(bs_obj))\n",
    "print(bs_obj)\n",
    "print(bs_obj.find(\"div\"))"
   ]
  },
  {
   "cell_type": "markdown",
   "metadata": {},
   "source": [
    "## 네이버 페이지 뷰티블 솝에 넣기"
   ]
  },
  {
   "cell_type": "code",
   "execution_count": 5,
   "metadata": {},
   "outputs": [],
   "source": [
    "url = \"https://www.naver.com\"\n",
    "html = urllib.request.urlopen(url)\n",
    "\n",
    "bs_naver = bs4.BeautifulSoup(html,\"html.parser\")\n",
    "#print(bs_naver)"
   ]
  },
  {
   "cell_type": "markdown",
   "metadata": {},
   "source": [
    "### 네이버를 시작페이지로! 뽑아내기"
   ]
  },
  {
   "cell_type": "code",
   "execution_count": 6,
   "metadata": {},
   "outputs": [
    {
     "name": "stdout",
     "output_type": "stream",
     "text": [
      "<div class=\"area_links\">\n",
      "<a class=\"al_favorite\" data-clk=\"top.mkhome\" href=\"http://help.naver.com/support/alias/contents2/naverhome/naverhome_1.naver\">네이버를 시작페이지로<span class=\"al_ico_link\"></span></a>\n",
      "<span class=\"al_bar\"></span>\n",
      "<a class=\"al_jr\" data-clk=\"top.jrnaver\" href=\"http://jr.naver.com\"><span class=\"blind\">쥬니어네이버</span><span class=\"al_ico\"></span></a>\n",
      "<a class=\"al_happybean\" data-clk=\"top.happybean\" href=\"http://happybean.naver.com/main/SectionMain.nhn\"><span class=\"blind\">해피빈</span><span class=\"al_ico\"></span></a>\n",
      "</div>\n"
     ]
    }
   ],
   "source": [
    "top_right = bs_naver.find(\"div\",{\"class\":\"area_links\"})\n",
    "print(top_right)"
   ]
  },
  {
   "cell_type": "code",
   "execution_count": 7,
   "metadata": {},
   "outputs": [
    {
     "name": "stdout",
     "output_type": "stream",
     "text": [
      "<a class=\"al_favorite\" data-clk=\"top.mkhome\" href=\"http://help.naver.com/support/alias/contents2/naverhome/naverhome_1.naver\">네이버를 시작페이지로<span class=\"al_ico_link\"></span></a>\n",
      "네이버를 시작페이지로\n"
     ]
    }
   ],
   "source": [
    "first_a = top_right.find(\"a\")\n",
    "print(first_a)\n",
    "print(first_a.text)"
   ]
  },
  {
   "cell_type": "markdown",
   "metadata": {},
   "source": [
    "### 메뉴바 뽑아내기  \n",
    "ul class : an_l  \n",
    "li class :an_item  \n",
    "a  \n",
    "span class : an_txt  메일!   "
   ]
  },
  {
   "cell_type": "code",
   "execution_count": 21,
   "metadata": {},
   "outputs": [],
   "source": [
    "ul = bs_naver.find(\"ul\",{\"class\":\"an_l\"})"
   ]
  },
  {
   "cell_type": "code",
   "execution_count": 25,
   "metadata": {},
   "outputs": [
    {
     "name": "stdout",
     "output_type": "stream",
     "text": [
      "\n",
      "\n",
      "<li class=\"an_item\">\n",
      "<a class=\"an_a mn_mail\" data-clk=\"svc.mail\" href=\"http://mail.naver.com/\">\n",
      "<span class=\"an_icon\"></span><span class=\"an_txt\">메일</span>\n",
      "</a>\n",
      "</li>\n",
      "\n",
      "\n",
      "<li class=\"an_item\">\n",
      "<a class=\"an_a mn_cafe\" data-clk=\"svc.cafe\" href=\"http://section.cafe.naver.com/\">\n",
      "<span class=\"an_icon\"></span><span class=\"an_txt\">카페</span>\n",
      "</a>\n",
      "</li>\n",
      "\n",
      "\n",
      "<li class=\"an_item\">\n",
      "<a class=\"an_a mn_blog\" data-clk=\"svc.blog\" href=\"http://section.blog.naver.com/\">\n",
      "<span class=\"an_icon\"></span><span class=\"an_txt\">블로그</span>\n",
      "</a>\n",
      "</li>\n",
      "\n",
      "\n",
      "<li class=\"an_item\">\n",
      "<a class=\"an_a mn_kin\" data-clk=\"svc.kin\" href=\"http://kin.naver.com/\">\n",
      "<span class=\"an_icon\"></span><span class=\"an_txt\">지식인</span>\n",
      "</a>\n",
      "</li>\n",
      "\n",
      "\n",
      "<li class=\"an_item\">\n",
      "<a class=\"an_a mn_shopping\" data-clk=\"svc.shopping\" href=\"http://shopping2.naver.com/\">\n",
      "<span class=\"an_icon\"></span><span class=\"an_txt\">쇼핑</span>\n",
      "</a>\n",
      "</li>\n",
      "\n",
      "\n",
      "<li class=\"an_item\">\n",
      "<a class=\"an_a mn_checkout\" data-clk=\"svc.pay\" href=\"http://pay.naver.com/\">\n",
      "<span class=\"an_icon\"></span><span class=\"an_txt\">네이버페이</span>\n",
      "</a>\n",
      "</li>\n",
      "\n",
      "\n",
      "<li class=\"an_item\">\n",
      "<a class=\"an_a mn_tvcast\" data-clk=\"svc.tvcast\" href=\"http://tv.naver.com/\">\n",
      "<span class=\"an_icon\"></span><span class=\"an_txt\">네이버TV</span>\n",
      "</a>\n",
      "</li>\n",
      "\n",
      "\n"
     ]
    }
   ],
   "source": [
    "for li in ul:\n",
    "    print(li)"
   ]
  },
  {
   "cell_type": "code",
   "execution_count": 22,
   "metadata": {},
   "outputs": [],
   "source": [
    "lis = ul.findAll(\"li\")"
   ]
  },
  {
   "cell_type": "code",
   "execution_count": 27,
   "metadata": {},
   "outputs": [
    {
     "name": "stdout",
     "output_type": "stream",
     "text": [
      "<a class=\"an_a mn_mail\" data-clk=\"svc.mail\" href=\"http://mail.naver.com/\">\n",
      "<span class=\"an_icon\"></span><span class=\"an_txt\">메일</span>\n",
      "</a>\n",
      "<a class=\"an_a mn_cafe\" data-clk=\"svc.cafe\" href=\"http://section.cafe.naver.com/\">\n",
      "<span class=\"an_icon\"></span><span class=\"an_txt\">카페</span>\n",
      "</a>\n",
      "<a class=\"an_a mn_blog\" data-clk=\"svc.blog\" href=\"http://section.blog.naver.com/\">\n",
      "<span class=\"an_icon\"></span><span class=\"an_txt\">블로그</span>\n",
      "</a>\n",
      "<a class=\"an_a mn_kin\" data-clk=\"svc.kin\" href=\"http://kin.naver.com/\">\n",
      "<span class=\"an_icon\"></span><span class=\"an_txt\">지식인</span>\n",
      "</a>\n",
      "<a class=\"an_a mn_shopping\" data-clk=\"svc.shopping\" href=\"http://shopping2.naver.com/\">\n",
      "<span class=\"an_icon\"></span><span class=\"an_txt\">쇼핑</span>\n",
      "</a>\n",
      "<a class=\"an_a mn_checkout\" data-clk=\"svc.pay\" href=\"http://pay.naver.com/\">\n",
      "<span class=\"an_icon\"></span><span class=\"an_txt\">네이버페이</span>\n",
      "</a>\n",
      "<a class=\"an_a mn_tvcast\" data-clk=\"svc.tvcast\" href=\"http://tv.naver.com/\">\n",
      "<span class=\"an_icon\"></span><span class=\"an_txt\">네이버TV</span>\n",
      "</a>\n"
     ]
    }
   ],
   "source": [
    "for li in lis:\n",
    "    a_tag = li.find(\"a\")\n",
    "    print(a_tag)"
   ]
  },
  {
   "cell_type": "code",
   "execution_count": 31,
   "metadata": {},
   "outputs": [
    {
     "name": "stdout",
     "output_type": "stream",
     "text": [
      "<span class=\"an_txt\">메일</span>\n",
      "<span class=\"an_txt\">카페</span>\n",
      "<span class=\"an_txt\">블로그</span>\n",
      "<span class=\"an_txt\">지식인</span>\n",
      "<span class=\"an_txt\">쇼핑</span>\n",
      "<span class=\"an_txt\">네이버페이</span>\n",
      "<span class=\"an_txt\">네이버TV</span>\n"
     ]
    }
   ],
   "source": [
    "for li in lis:\n",
    "    a_tag = li.find(\"a\")\n",
    "    span = a_tag.find(\"span\",{\"class\":\"an_txt\"})\n",
    "    print(span)"
   ]
  },
  {
   "cell_type": "code",
   "execution_count": 32,
   "metadata": {},
   "outputs": [
    {
     "name": "stdout",
     "output_type": "stream",
     "text": [
      "메일\n",
      "카페\n",
      "블로그\n",
      "지식인\n",
      "쇼핑\n",
      "네이버페이\n",
      "네이버TV\n"
     ]
    }
   ],
   "source": [
    "for li in lis:\n",
    "    a_tag = li.find(\"a\")\n",
    "    span = a_tag.find(\"span\",{\"class\":\"an_txt\"})\n",
    "    print(span.text)"
   ]
  },
  {
   "cell_type": "markdown",
   "metadata": {},
   "source": [
    "### 네이버 뉴스 스크랩"
   ]
  },
  {
   "cell_type": "code",
   "execution_count": 9,
   "metadata": {},
   "outputs": [],
   "source": [
    "from urllib.request import urlopen\n",
    "import bs4"
   ]
  },
  {
   "cell_type": "code",
   "execution_count": 10,
   "metadata": {},
   "outputs": [],
   "source": [
    "url = \"https://news.naver.com/\"\n",
    "html = urlopen(url)\n",
    "news_naver = bs4.BeautifulSoup(html.read(),\"html.parser\")\n",
    "#print(news_naver)"
   ]
  },
  {
   "cell_type": "markdown",
   "metadata": {},
   "source": [
    "#### 이시각 주요뉴스  \n",
    "div  id pan_today_main_news  \n",
    "div class newsnow"
   ]
  },
  {
   "cell_type": "code",
   "execution_count": 3,
   "metadata": {},
   "outputs": [
    {
     "name": "stdout",
     "output_type": "stream",
     "text": [
      "\n",
      "\n",
      "<div class=\"newsnow\" style=\"position:relative;\">\n",
      "<div class=\"newsnow_imgarea\">\n",
      "<a class=\"nclicks(hom.headcont)\" href=\"https://news.naver.com/main/read.nhn?oid=022&amp;sid1=102&amp;aid=0003348701&amp;mid=shm&amp;mode=LSD&amp;nh=20190322163434\"> <img alt=\"한창 일할 나이에…실직·빈곤이 부른 '중장년男 고독사'\" height=\"190\" onerror=\"javascript:this.src='https://ssl.pstatic.net/static.news/image/news/2009/noimage_300x190.png';\" src=\"https://imgnews.pstatic.net/image/upload/item/2019/03/22/152446202_5.jpg?type=f270_166\" width=\"300\">\n",
      "<div class=\"newsnow_img_mask\">\n",
      "<div class=\"newsnow_img_mask_bg\"></div>\n",
      "<p class=\"newsnow_img_mask_p\"> 한창 일할 나이에…실직·빈곤이 부른 '중장년男 고독사'</p>\n",
      "</div>\n",
      "<div class=\"newsnow_edge\"></div> </img></a>\n",
      "</div>\n",
      "<ul class=\"newsnow_txarea\" id=\"text_today_main_news_801001\">\n",
      "<li>\n",
      "<div class=\"newsnow_tx_inner\">\n",
      "<a class=\"nclicks(hom.headcont)\" href=\"https://news.naver.com/main/read.nhn?oid=001&amp;sid1=101&amp;aid=0010711527&amp;mid=shm&amp;mode=LSD&amp;nh=20190322170938\"><strong>작년 고용률·경제활동참가율 9년 만에 하락…실업률은 5년째↑</strong></a>\n",
      "</div> </li>\n",
      "<li>\n",
      "<div class=\"newsnow_tx_inner\">\n",
      "<a class=\"nclicks(hom.headcont)\" href=\"https://news.naver.com/main/hotissue/sectionList.nhn?sid1=100&amp;gid=1079155&amp;mid=hot&amp;viewType=pc&amp;cid=1079165&amp;nh=20190322181556\"><strong>北, 개성연락사무소 철수…190일만에 닫힌 남북 접촉창구</strong></a>\n",
      "</div> </li>\n",
      "<li>\n",
      "<div class=\"newsnow_tx_inner\">\n",
      "<a class=\"nclicks(hom.headcont)\" href=\"https://news.naver.com/main/read.nhn?oid=003&amp;sid1=100&amp;aid=0009128904&amp;mid=shm&amp;mode=LSD&amp;nh=20190322152550\"><strong>文대통령, 서해수호의 날 메시지 \"그 어떤 도발도 용서 불가\" </strong></a>\n",
      "</div> </li>\n",
      "<li>\n",
      "<div class=\"newsnow_tx_inner\">\n",
      "<a class=\"nclicks(hom.headcont)\" href=\"https://news.naver.com/main/read.nhn?oid=079&amp;sid1=102&amp;aid=0003207579&amp;mid=shm&amp;mode=LSD&amp;nh=20190322172519\"><strong>포항 여진 662회…끝나지 않는 공포에도 지열발전 폐쇄 '신중'</strong></a>\n",
      "</div> </li>\n",
      "<li>\n",
      "<div class=\"newsnow_tx_inner\">\n",
      "<a class=\"nclicks(hom.headcont)\" href=\"https://news.naver.com/main/read.nhn?oid=422&amp;sid1=103&amp;aid=0000366774&amp;mid=shm&amp;mode=LSD&amp;nh=20190322164146\"><strong>주말까지 '쌀쌀'…내일 전국 눈ㆍ비</strong></a>\n",
      "</div> </li>\n",
      "</ul>\n",
      "</div>\n",
      "\n",
      "\n",
      "<div class=\"newsnow\" style=\"position:relative;display:block;\">\n",
      "<div class=\"newsnow_imgarea\">\n",
      "<a class=\"nclicks(hom.headcont)\" href=\"https://news.naver.com/main/read.nhn?oid=001&amp;sid1=102&amp;aid=0010712062&amp;mid=shm&amp;mode=LSD&amp;nh=20190322163434\"> <img alt=\"플라스틱 쓰레기, '자연사 박물관' 갈라파고스도 위협\" height=\"190\" onerror=\"javascript:this.src='https://ssl.pstatic.net/static.news/image/news/2009/noimage_300x190.png';\" src=\"https://imgnews.pstatic.net/image/upload/item/2019/03/22/160011498_10.jpg?type=f270_166\" width=\"300\">\n",
      "<div class=\"newsnow_img_mask\">\n",
      "<div class=\"newsnow_img_mask_bg\"></div>\n",
      "<p class=\"newsnow_img_mask_p\"> 플라스틱 쓰레기, '자연사 박물관' 갈라파고스도 위협</p>\n",
      "</div>\n",
      "<div class=\"newsnow_edge\"></div> </img></a>\n",
      "</div>\n",
      "<ul class=\"newsnow_txarea\" id=\"text_today_main_news_428288\">\n",
      "<li>\n",
      "<div class=\"newsnow_tx_inner\">\n",
      "<a class=\"nclicks(hom.headcont)\" href=\"https://news.naver.com/main/read.nhn?oid=003&amp;sid1=102&amp;aid=0009129223&amp;mid=shm&amp;mode=LSD&amp;nh=20190322160309\"><strong>'버닝썬 폭행' 영장 잇단 기각…체면구긴 '매머드' 수사</strong></a>\n",
      "</div> </li>\n",
      "<li>\n",
      "<div class=\"newsnow_tx_inner\">\n",
      "<a class=\"nclicks(hom.headcont)\" href=\"https://news.naver.com/main/read.nhn?oid=020&amp;sid1=105&amp;aid=0003206107&amp;mid=shm&amp;mode=LSD&amp;nh=20190322185254\"><strong>무선 이어폰이 '암' 유발한다고? 전자파 정말 괜찮을까 </strong></a>\n",
      "</div> </li>\n",
      "<li>\n",
      "<div class=\"newsnow_tx_inner\">\n",
      "<a class=\"nclicks(hom.headcont)\" href=\"https://news.naver.com/main/read.nhn?oid=014&amp;sid1=102&amp;aid=0004198073&amp;mid=shm&amp;mode=LSD&amp;nh=20190322171239\"><strong>몰카 동영상 '비동의 유포', 성폭력 범죄로 처벌 어렵다니…</strong></a>\n",
      "</div> </li>\n",
      "<li>\n",
      "<div class=\"newsnow_tx_inner\">\n",
      "<a class=\"nclicks(hom.headcont)\" href=\"https://news.naver.com/main/read.nhn?oid=001&amp;sid1=102&amp;aid=0010712293&amp;mid=shm&amp;mode=LSD&amp;nh=20190322171602\"><strong>'이부진 프로포폴 의혹' 병원 \"영장없이 진료기록 제출불가\"</strong></a>\n",
      "</div> </li>\n",
      "<li>\n",
      "<div class=\"newsnow_tx_inner\">\n",
      "<a class=\"nclicks(hom.headcont)\" href=\"https://news.naver.com/main/read.nhn?oid=421&amp;sid1=102&amp;aid=0003896516&amp;mid=shm&amp;mode=LSD&amp;nh=20190322172121\"><strong>檢 '신생아 학대치사' 위탁모에 징역 25년 구형</strong></a>\n",
      "</div> </li>\n",
      "</ul>\n",
      "</div>\n",
      "\n",
      "\n"
     ]
    }
   ],
   "source": [
    "today_main = news_naver.find(\"div\",{\"id\":\"pan_today_main_news\"})\n",
    "for newsnow in today_main:\n",
    "    print(newsnow)"
   ]
  },
  {
   "cell_type": "code",
   "execution_count": 11,
   "metadata": {},
   "outputs": [
    {
     "name": "stdout",
     "output_type": "stream",
     "text": [
      " \n",
      "\n",
      "\n",
      " 한창 일할 나이에…실직·빈곤이 부른 '중장년男 고독사'\n",
      "\n",
      " \n",
      "작년 고용률·경제활동참가율 9년 만에 하락…실업률은 5년째↑\n",
      "北, 개성연락사무소 철수…190일만에 닫힌 남북 접촉창구\n",
      "文대통령, 서해수호의 날 메시지 \"그 어떤 도발도 용서 불가\" \n",
      "포항 여진 662회…끝나지 않는 공포에도 지열발전 폐쇄 '신중'\n",
      "주말까지 '쌀쌀'…내일 전국 눈ㆍ비\n",
      " \n",
      "\n",
      "\n",
      " 플라스틱 쓰레기, '자연사 박물관' 갈라파고스도 위협\n",
      "\n",
      " \n",
      "'버닝썬 폭행' 영장 잇단 기각…체면구긴 '매머드' 수사\n",
      "무선 이어폰이 '암' 유발한다고? 전자파 정말 괜찮을까 \n",
      "몰카 동영상 '비동의 유포', 성폭력 범죄로 처벌 어렵다니…\n",
      "'이부진 프로포폴 의혹' 병원 \"영장없이 진료기록 제출불가\"\n",
      "檢 '신생아 학대치사' 위탁모에 징역 25년 구형\n"
     ]
    }
   ],
   "source": [
    "a_tags = today_main.find_all(\"a\")\n",
    "for a in a_tags:\n",
    "    print(a.text)"
   ]
  },
  {
   "cell_type": "code",
   "execution_count": 12,
   "metadata": {},
   "outputs": [
    {
     "name": "stdout",
     "output_type": "stream",
     "text": [
      "<ul class=\"newsnow_txarea\" id=\"text_today_main_news_801001\">\n",
      "<li>\n",
      "<div class=\"newsnow_tx_inner\">\n",
      "<a class=\"nclicks(hom.headcont)\" href=\"https://news.naver.com/main/read.nhn?oid=001&amp;sid1=101&amp;aid=0010711527&amp;mid=shm&amp;mode=LSD&amp;nh=20190322170938\"><strong>작년 고용률·경제활동참가율 9년 만에 하락…실업률은 5년째↑</strong></a>\n",
      "</div> </li>\n",
      "<li>\n",
      "<div class=\"newsnow_tx_inner\">\n",
      "<a class=\"nclicks(hom.headcont)\" href=\"https://news.naver.com/main/hotissue/sectionList.nhn?sid1=100&amp;gid=1079155&amp;mid=hot&amp;viewType=pc&amp;cid=1079165&amp;nh=20190322181556\"><strong>北, 개성연락사무소 철수…190일만에 닫힌 남북 접촉창구</strong></a>\n",
      "</div> </li>\n",
      "<li>\n",
      "<div class=\"newsnow_tx_inner\">\n",
      "<a class=\"nclicks(hom.headcont)\" href=\"https://news.naver.com/main/read.nhn?oid=003&amp;sid1=100&amp;aid=0009128904&amp;mid=shm&amp;mode=LSD&amp;nh=20190322152550\"><strong>文대통령, 서해수호의 날 메시지 \"그 어떤 도발도 용서 불가\" </strong></a>\n",
      "</div> </li>\n",
      "<li>\n",
      "<div class=\"newsnow_tx_inner\">\n",
      "<a class=\"nclicks(hom.headcont)\" href=\"https://news.naver.com/main/read.nhn?oid=079&amp;sid1=102&amp;aid=0003207579&amp;mid=shm&amp;mode=LSD&amp;nh=20190322172519\"><strong>포항 여진 662회…끝나지 않는 공포에도 지열발전 폐쇄 '신중'</strong></a>\n",
      "</div> </li>\n",
      "<li>\n",
      "<div class=\"newsnow_tx_inner\">\n",
      "<a class=\"nclicks(hom.headcont)\" href=\"https://news.naver.com/main/read.nhn?oid=422&amp;sid1=103&amp;aid=0000366774&amp;mid=shm&amp;mode=LSD&amp;nh=20190322164146\"><strong>주말까지 '쌀쌀'…내일 전국 눈ㆍ비</strong></a>\n",
      "</div> </li>\n",
      "</ul>\n"
     ]
    }
   ],
   "source": [
    "ul = today_main.find(\"ul\",{\"class\",\"newsnow_txarea\"})\n",
    "print(ul)"
   ]
  },
  {
   "cell_type": "code",
   "execution_count": 13,
   "metadata": {},
   "outputs": [
    {
     "name": "stdout",
     "output_type": "stream",
     "text": [
      "[<li>\n",
      "<div class=\"newsnow_tx_inner\">\n",
      "<a class=\"nclicks(hom.headcont)\" href=\"https://news.naver.com/main/read.nhn?oid=001&amp;sid1=101&amp;aid=0010711527&amp;mid=shm&amp;mode=LSD&amp;nh=20190322170938\"><strong>작년 고용률·경제활동참가율 9년 만에 하락…실업률은 5년째↑</strong></a>\n",
      "</div> </li>, <li>\n",
      "<div class=\"newsnow_tx_inner\">\n",
      "<a class=\"nclicks(hom.headcont)\" href=\"https://news.naver.com/main/hotissue/sectionList.nhn?sid1=100&amp;gid=1079155&amp;mid=hot&amp;viewType=pc&amp;cid=1079165&amp;nh=20190322181556\"><strong>北, 개성연락사무소 철수…190일만에 닫힌 남북 접촉창구</strong></a>\n",
      "</div> </li>, <li>\n",
      "<div class=\"newsnow_tx_inner\">\n",
      "<a class=\"nclicks(hom.headcont)\" href=\"https://news.naver.com/main/read.nhn?oid=003&amp;sid1=100&amp;aid=0009128904&amp;mid=shm&amp;mode=LSD&amp;nh=20190322152550\"><strong>文대통령, 서해수호의 날 메시지 \"그 어떤 도발도 용서 불가\" </strong></a>\n",
      "</div> </li>, <li>\n",
      "<div class=\"newsnow_tx_inner\">\n",
      "<a class=\"nclicks(hom.headcont)\" href=\"https://news.naver.com/main/read.nhn?oid=079&amp;sid1=102&amp;aid=0003207579&amp;mid=shm&amp;mode=LSD&amp;nh=20190322172519\"><strong>포항 여진 662회…끝나지 않는 공포에도 지열발전 폐쇄 '신중'</strong></a>\n",
      "</div> </li>, <li>\n",
      "<div class=\"newsnow_tx_inner\">\n",
      "<a class=\"nclicks(hom.headcont)\" href=\"https://news.naver.com/main/read.nhn?oid=422&amp;sid1=103&amp;aid=0000366774&amp;mid=shm&amp;mode=LSD&amp;nh=20190322164146\"><strong>주말까지 '쌀쌀'…내일 전국 눈ㆍ비</strong></a>\n",
      "</div> </li>]\n"
     ]
    }
   ],
   "source": [
    "lis = ul.find_all(\"li\")\n",
    "print(lis)"
   ]
  },
  {
   "cell_type": "code",
   "execution_count": 15,
   "metadata": {},
   "outputs": [
    {
     "name": "stdout",
     "output_type": "stream",
     "text": [
      "작년 고용률·경제활동참가율 9년 만에 하락…실업률은 5년째↑\n",
      "北, 개성연락사무소 철수…190일만에 닫힌 남북 접촉창구\n",
      "文대통령, 서해수호의 날 메시지 \"그 어떤 도발도 용서 불가\" \n",
      "포항 여진 662회…끝나지 않는 공포에도 지열발전 폐쇄 '신중'\n",
      "주말까지 '쌀쌀'…내일 전국 눈ㆍ비\n"
     ]
    }
   ],
   "source": [
    "for li in lis:\n",
    "    print(li.find(\"a\").text)\n",
    "    #li.find(\"strong\").text"
   ]
  },
  {
   "cell_type": "code",
   "execution_count": 24,
   "metadata": {},
   "outputs": [
    {
     "name": "stdout",
     "output_type": "stream",
     "text": [
      "['작년 고용률·경제활동참가율 9년 만에 하락…실업률은 5년째↑', '北, 개성연락사무소 철수…190일만에 닫힌 남북 접촉창구', '文대통령, 서해수호의 날 메시지 \"그 어떤 도발도 용서 불가\" ', \"포항 여진 662회…끝나지 않는 공포에도 지열발전 폐쇄 '신중'\", \"주말까지 '쌀쌀'…내일 전국 눈ㆍ비\"]\n"
     ]
    }
   ],
   "source": [
    "strong = [li.find(\"strong\").text for li in lis]\n",
    "print(strong)"
   ]
  },
  {
   "cell_type": "code",
   "execution_count": 16,
   "metadata": {},
   "outputs": [
    {
     "name": "stdout",
     "output_type": "stream",
     "text": [
      "[<strong>작년 고용률·경제활동참가율 9년 만에 하락…실업률은 5년째↑</strong>, <strong>北, 개성연락사무소 철수…190일만에 닫힌 남북 접촉창구</strong>, <strong>文대통령, 서해수호의 날 메시지 \"그 어떤 도발도 용서 불가\" </strong>, <strong>포항 여진 662회…끝나지 않는 공포에도 지열발전 폐쇄 '신중'</strong>, <strong>주말까지 '쌀쌀'…내일 전국 눈ㆍ비</strong>, <strong>'버닝썬 폭행' 영장 잇단 기각…체면구긴 '매머드' 수사</strong>, <strong>무선 이어폰이 '암' 유발한다고? 전자파 정말 괜찮을까 </strong>, <strong>몰카 동영상 '비동의 유포', 성폭력 범죄로 처벌 어렵다니…</strong>, <strong>'이부진 프로포폴 의혹' 병원 \"영장없이 진료기록 제출불가\"</strong>, <strong>檢 '신생아 학대치사' 위탁모에 징역 25년 구형</strong>]\n"
     ]
    }
   ],
   "source": [
    "strong_tag =  today_main.find_all(\"strong\")\n",
    "print(strong_tag)"
   ]
  }
 ],
 "metadata": {
  "kernelspec": {
   "display_name": "Python [conda env:root]",
   "language": "python",
   "name": "conda-root-py"
  },
  "language_info": {
   "codemirror_mode": {
    "name": "ipython",
    "version": 3
   },
   "file_extension": ".py",
   "mimetype": "text/x-python",
   "name": "python",
   "nbconvert_exporter": "python",
   "pygments_lexer": "ipython3",
   "version": "3.7.1"
  }
 },
 "nbformat": 4,
 "nbformat_minor": 2
}
