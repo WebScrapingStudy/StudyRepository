{
 "cells": [
  {
   "cell_type": "code",
   "execution_count": 1,
   "metadata": {},
   "outputs": [],
   "source": [
    "from bs4 import BeautifulSoup\n",
    "import urllib.request as req"
   ]
  },
  {
   "cell_type": "code",
   "execution_count": 2,
   "metadata": {},
   "outputs": [],
   "source": [
    "url = \"https://finance.naver.com/marketindex/\"\n",
    "res = req.urlopen(url)"
   ]
  },
  {
   "cell_type": "code",
   "execution_count": 21,
   "metadata": {},
   "outputs": [],
   "source": [
    "soup = BeautifulSoup(res,\"html.parser\")"
   ]
  },
  {
   "cell_type": "code",
   "execution_count": 5,
   "metadata": {},
   "outputs": [
    {
     "name": "stdout",
     "output_type": "stream",
     "text": [
      "1,134.00\n"
     ]
    }
   ],
   "source": [
    "price = soup.select_one(\"div.head_info > span.value\")\n",
    "print(price.string)"
   ]
  },
  {
   "cell_type": "code",
   "execution_count": 19,
   "metadata": {},
   "outputs": [
    {
     "name": "stdout",
     "output_type": "stream",
     "text": [
      "[<span class=\"value\">1,134.00</span>, <span class=\"value\">1,026.66</span>, <span class=\"value\">1,282.55</span>, <span class=\"value\">168.78</span>, <span class=\"value\">109.9200</span>, <span class=\"value\">1.1320</span>, <span class=\"value\">1.3211</span>, <span class=\"value\">96.1500</span>, <span class=\"value\">59.04</span>, <span class=\"value\">1384.55</span>, <span class=\"value\">1311.6</span>, <span class=\"value\">47837.67</span>]\n",
      "[<span class=\"blind\">미국 USD</span>, <span class=\"blind\">일본 JPY(100엔)</span>, <span class=\"blind\">유럽연합 EUR</span>, <span class=\"blind\">중국 CNY</span>, <span class=\"blind\">일본 엔/달러</span>, <span class=\"blind\">달러/유로</span>, <span class=\"blind\">달러/영국파운드</span>, <span class=\"blind\">달러인덱스</span>, <span class=\"blind\">WTI</span>, <span class=\"blind\">휘발유</span>, <span class=\"blind\">국제 금</span>, <span class=\"blind\">국내 금</span>]\n"
     ]
    }
   ],
   "source": [
    "prices = soup.select(\"div.head_info > span.value\")\n",
    "con = soup.select(\"h3 > span.blind\")\n",
    "print(prices)\n",
    "print(con)"
   ]
  },
  {
   "cell_type": "code",
   "execution_count": 20,
   "metadata": {},
   "outputs": [
    {
     "name": "stdout",
     "output_type": "stream",
     "text": [
      "미국 USD 1,134.00\n",
      "일본 JPY(100엔) 1,026.66\n",
      "유럽연합 EUR 1,282.55\n",
      "중국 CNY 168.78\n",
      "일본 엔/달러 109.9200\n",
      "달러/유로 1.1320\n",
      "달러/영국파운드 1.3211\n",
      "달러인덱스 96.1500\n",
      "WTI 59.04\n",
      "휘발유 1384.55\n",
      "국제 금 1311.6\n",
      "국내 금 47837.67\n"
     ]
    }
   ],
   "source": [
    "for i in range(0,len(prices)):\n",
    "    print(con[i].string+\" \"+prices[i].string)"
   ]
  }
 ],
 "metadata": {
  "kernelspec": {
   "display_name": "Python [conda env:root]",
   "language": "python",
   "name": "conda-root-py"
  },
  "language_info": {
   "codemirror_mode": {
    "name": "ipython",
    "version": 3
   },
   "file_extension": ".py",
   "mimetype": "text/x-python",
   "name": "python",
   "nbconvert_exporter": "python",
   "pygments_lexer": "ipython3",
   "version": "3.7.1"
  }
 },
 "nbformat": 4,
 "nbformat_minor": 2
}
