{
 "cells": [
  {
   "cell_type": "code",
   "execution_count": 2,
   "metadata": {},
   "outputs": [],
   "source": [
    "import requests\n",
    "from bs4 import BeautifulSoup"
   ]
  },
  {
   "cell_type": "code",
   "execution_count": 4,
   "metadata": {},
   "outputs": [
    {
     "name": "stdout",
     "output_type": "stream",
     "text": [
      "<!DOCTYPE doctype html>\n",
      "\n",
      "<html lang=\"ko\">\n",
      "<head>\n",
      "<meta charset=\"utf-8\"/>\n",
      "<title>[레벨1] 단순 HTML 크롤링</title>\n",
      "<style>\n",
      "#logo {\n",
      "    max-width: 100%;\n",
      "}\n",
      "</style>\n",
      "</head>\n",
      "<body>\n",
      "<h1>Ask Company VOD</h1>\n",
      "<h2>[레벨1] 단순 HTML 크롤링</h2>\n",
      "<p>본 HTML에 크롤링할 데이터가 있습니다.</p>\n",
      "<h3>시즌2</h3>\n",
      "<ul id=\"s2_course_list\">\n",
      "<li class=\"course\"><a href=\"https://www.askcompany.kr/r/sections/f04de5e/\">장고 2.0 주요 변경내역 살펴보기</a></li>\n",
      "<li class=\"course\"><a href=\"https://www.askcompany.kr/r/sections/dfc55e7/\">(기초편) 장고 차근차근 시작하기 2/E</a></li>\n",
      "<li class=\"course\"><a href=\"https://www.askcompany.kr/r/sections/5bb1344/\">(중급편) 장고 기본인증 뽀개기</a></li>\n",
      "<li class=\"course\"><a href=\"https://www.askcompany.kr/r/sections/72d2474/\">(중급편) 장고 Form/ModelForm 제대로 알고 쓰기</a></li>\n",
      "<li class=\"course\"><a href=\"https://www.askcompany.kr/r/sections/387169d/\">(중급편) 클래스 기반 뷰 잘 알고 쓰기</a></li>\n",
      "<li class=\"course\"><a href=\"https://www.askcompany.kr/r/sections/7d64b4a/\">(배포) 빠르게 살펴보는 Azure PaaS를 활용한 인프라 스트레스없는 웹서비스 배포</a></li>\n",
      "<li class=\"course\"><a href=\"https://www.askcompany.kr/r/sections/f5bf323/\">(초급) Pandas 워밍업</a></li>\n",
      "<li class=\"course\"><a href=\"https://www.askcompany.kr/r/sections/d8ccb08/\">(초급) 10 Minutes to Pandas 따라하기</a></li>\n",
      "<li class=\"course\"><a href=\"https://www.askcompany.kr/r/sections/d47e585/\">Google Dialogflow와 파이썬/장고를 활용하여, 카카오톡 챗봇 만들기 (초급편)</a></li>\n",
      "</ul>\n",
      "<h3>시즌1</h3>\n",
      "<ul id=\"s1_course_list\">\n",
      "<li class=\"course\"><a href=\"https://www.askcompany.kr/vod/setup/\">개발환경 구축하기</a></li>\n",
      "<li class=\"course\"><a href=\"https://www.askcompany.kr/vod/python/\">파이썬 차근차근 시작하기</a></li>\n",
      "<li class=\"course\"><a href=\"https://www.askcompany.kr/vod/crawling/\">크롤링 차근차근 시작하기</a></li>\n",
      "<li class=\"course\"><a href=\"https://www.askcompany.kr/vod/automation/\">파이썬으로 업무 자동화</a></li>\n",
      "<li class=\"course\"><a href=\"https://www.askcompany.kr/vod/django/\">장고 - 기본편</a></li>\n",
      "<li class=\"course\"><a href=\"https://www.askcompany.kr/vod/djangogirls/\">장고걸스 튜토리얼</a></li>\n",
      "<li class=\"course\"><a href=\"https://www.askcompany.kr/vod/form/\">장고 - Form/ModelForm 잘 알고 쓰기</a></li>\n",
      "<li class=\"course\"><a href=\"https://www.askcompany.kr/vod/cbv/\">장고 - 클래스 기반 뷰. 잘 알고 쓰기</a></li>\n",
      "<li class=\"course\"><a href=\"https://www.askcompany.kr/vod/payment/\">장고 - 결제 시스템 연동</a></li>\n",
      "<li class=\"course\"><a href=\"https://www.askcompany.kr/vod/frontend/\">장고 - 웹 프론트엔드 시작편</a></li>\n",
      "<li class=\"course\"><a href=\"https://www.askcompany.kr/vod/widgets/\">장고 - 다양한 위젯 만들기</a></li>\n",
      "<li class=\"course\"><a href=\"https://www.askcompany.kr/vod/apiserver/\">장고 - API 서버 만들기 및 초간단 안드로이드 앱 만들기</a></li>\n",
      "<li class=\"course\"><a href=\"https://www.askcompany.kr/vod/hybrid/\">장고 - 하이브리드 앱 만들기</a></li>\n",
      "<li class=\"course\"><a href=\"https://www.askcompany.kr/vod/deploy/\">장고 - 서비스 배포하기</a></li>\n",
      "<li class=\"course\"><a href=\"https://www.askcompany.kr/vod/django-baemin/\">장고 - 실전편 (Feat. 배달의 민족 St. 만들기)</a></li>\n",
      "<li class=\"course\"><a href=\"https://www.askcompany.kr/vod/django-instagram/\">장고 - 실전편 (Feat. 인스타그램 St. 만들기)</a></li>\n",
      "</ul>\n",
      "<img id=\"logo\" src=\"https://askcompanyjpe.blob.core.windows.net/static/askcompany-og.jpg\"/>\n",
      "<hr/>\n",
      "<h3>미션</h3>\n",
      "<ul>\n",
      "<li>위 VOD 코스의 코스명과 URL을 크롤링</li>\n",
      "<li>제약사항 : requests 라이브러리만을 사용하세요.</li>\n",
      "</ul>\n",
      "\n",
      "실행 예시\n",
      "\n",
      "<pre>\n",
      "    장고 2.0 주요 변경내역 살펴보기 https://www.askcompany.kr/r/sections/f04de5e/\n",
      "    (기초편) 장고 차근차근 시작하기 2/E https://www.askcompany.kr/r/sections/dfc55e7/\n",
      "    (중급편) 장고 기본인증 뽀개기 https://www.askcompany.kr/r/sections/5bb1344/\n",
      "    (중급편) 장고 Form/ModelForm 제대로 알고 쓰기 https://www.askcompany.kr/r/sections/72d2474/\n",
      "    (중급편) 클래스 기반 뷰 잘 알고 쓰기 https://www.askcompany.kr/r/sections/387169d/\n",
      "    (배포) 빠르게 살펴보는 Azure PaaS를 활용한 인프라 스트레스없는 웹서비스 배포 https://www.askcompany.kr/r/sections/7d64b4a/\n",
      "    (초급) Pandas 워밍업 https://www.askcompany.kr/r/sections/f5bf323/\n",
      "    (초급) 10 Minutes to Pandas 따라하기 https://www.askcompany.kr/r/sections/d8ccb08/\n",
      "    Google Dialogflow와 파이썬/장고를 활용하여, 카카오톡 챗봇 만들기 (초급편) https://www.askcompany.kr/r/sections/d47e585/\n",
      "    개발환경 구축하기 https://www.askcompany.kr/vod/setup/\n",
      "    파이썬 차근차근 시작하기 https://www.askcompany.kr/vod/python/\n",
      "    크롤링 차근차근 시작하기 https://www.askcompany.kr/vod/crawling/\n",
      "    파이썬으로 업무 자동화 https://www.askcompany.kr/vod/automation/\n",
      "    장고 - 기본편 https://www.askcompany.kr/vod/django/\n",
      "    장고걸스 튜토리얼 https://www.askcompany.kr/vod/djangogirls/\n",
      "    장고 - Form/ModelForm 잘 알고 쓰기 https://www.askcompany.kr/vod/form/\n",
      "    장고 - 클래스 기반 뷰. 잘 알고 쓰기 https://www.askcompany.kr/vod/cbv/\n",
      "    장고 - 결제 시스템 연동 https://www.askcompany.kr/vod/payment/\n",
      "    장고 - 웹 프론트엔드 시작편 https://www.askcompany.kr/vod/frontend/\n",
      "    장고 - 다양한 위젯 만들기 https://www.askcompany.kr/vod/widgets/\n",
      "    장고 - API 서버 만들기 및 초간단 안드로이드 앱 만들기 https://www.askcompany.kr/vod/apiserver/\n",
      "    장고 - 하이브리드 앱 만들기 https://www.askcompany.kr/vod/hybrid/\n",
      "    장고 - 서비스 배포하기 https://www.askcompany.kr/vod/deploy/\n",
      "    장고 - 실전편 (Feat. 배달의 민족 St. 만들기) https://www.askcompany.kr/vod/django-baemin/\n",
      "    장고 - 실전편 (Feat. 인스타그램 St. 만들기) https://www.askcompany.kr/vod/django-instagram/\n",
      "</pre>\n",
      "<p>Ask Company 크롤링 VOD를 통해 크롤링의 기본을 배우고, 꾸준히 크롤링을 연습해보세요.</p>\n",
      "<hr/>\n",
      "<p><a href=\"/\">home</a></p>\n",
      "<p>\n",
      "    여러분의 파이썬/장고 페이스메이커가 되겠습니다. &amp;dash <a href=\"https://www.askcompany.kr/vod/\">Ask Company VOD</a>\n",
      "</p>\n",
      "<p>\n",
      "    ©\n",
      "    <script>document.write((new Date()).getYear() + 1900);</script>\n",
      "    Ask Company\n",
      "</p>\n",
      "</body>\n",
      "</html>\n",
      "\n"
     ]
    }
   ],
   "source": [
    "url = \"https://askdjango.github.io/lv1/\" #크롤링도장\n",
    "result = requests.get(url = url)\n",
    "\n",
    "bs_obj = BeautifulSoup(result.content,\"html.parser\")\n",
    "print(bs_obj)"
   ]
  },
  {
   "cell_type": "code",
   "execution_count": 12,
   "metadata": {},
   "outputs": [
    {
     "name": "stdout",
     "output_type": "stream",
     "text": [
      "[<ul id=\"s2_course_list\">\n",
      "<li class=\"course\"><a href=\"https://www.askcompany.kr/r/sections/f04de5e/\">장고 2.0 주요 변경내역 살펴보기</a></li>\n",
      "<li class=\"course\"><a href=\"https://www.askcompany.kr/r/sections/dfc55e7/\">(기초편) 장고 차근차근 시작하기 2/E</a></li>\n",
      "<li class=\"course\"><a href=\"https://www.askcompany.kr/r/sections/5bb1344/\">(중급편) 장고 기본인증 뽀개기</a></li>\n",
      "<li class=\"course\"><a href=\"https://www.askcompany.kr/r/sections/72d2474/\">(중급편) 장고 Form/ModelForm 제대로 알고 쓰기</a></li>\n",
      "<li class=\"course\"><a href=\"https://www.askcompany.kr/r/sections/387169d/\">(중급편) 클래스 기반 뷰 잘 알고 쓰기</a></li>\n",
      "<li class=\"course\"><a href=\"https://www.askcompany.kr/r/sections/7d64b4a/\">(배포) 빠르게 살펴보는 Azure PaaS를 활용한 인프라 스트레스없는 웹서비스 배포</a></li>\n",
      "<li class=\"course\"><a href=\"https://www.askcompany.kr/r/sections/f5bf323/\">(초급) Pandas 워밍업</a></li>\n",
      "<li class=\"course\"><a href=\"https://www.askcompany.kr/r/sections/d8ccb08/\">(초급) 10 Minutes to Pandas 따라하기</a></li>\n",
      "<li class=\"course\"><a href=\"https://www.askcompany.kr/r/sections/d47e585/\">Google Dialogflow와 파이썬/장고를 활용하여, 카카오톡 챗봇 만들기 (초급편)</a></li>\n",
      "</ul>, <ul id=\"s1_course_list\">\n",
      "<li class=\"course\"><a href=\"https://www.askcompany.kr/vod/setup/\">개발환경 구축하기</a></li>\n",
      "<li class=\"course\"><a href=\"https://www.askcompany.kr/vod/python/\">파이썬 차근차근 시작하기</a></li>\n",
      "<li class=\"course\"><a href=\"https://www.askcompany.kr/vod/crawling/\">크롤링 차근차근 시작하기</a></li>\n",
      "<li class=\"course\"><a href=\"https://www.askcompany.kr/vod/automation/\">파이썬으로 업무 자동화</a></li>\n",
      "<li class=\"course\"><a href=\"https://www.askcompany.kr/vod/django/\">장고 - 기본편</a></li>\n",
      "<li class=\"course\"><a href=\"https://www.askcompany.kr/vod/djangogirls/\">장고걸스 튜토리얼</a></li>\n",
      "<li class=\"course\"><a href=\"https://www.askcompany.kr/vod/form/\">장고 - Form/ModelForm 잘 알고 쓰기</a></li>\n",
      "<li class=\"course\"><a href=\"https://www.askcompany.kr/vod/cbv/\">장고 - 클래스 기반 뷰. 잘 알고 쓰기</a></li>\n",
      "<li class=\"course\"><a href=\"https://www.askcompany.kr/vod/payment/\">장고 - 결제 시스템 연동</a></li>\n",
      "<li class=\"course\"><a href=\"https://www.askcompany.kr/vod/frontend/\">장고 - 웹 프론트엔드 시작편</a></li>\n",
      "<li class=\"course\"><a href=\"https://www.askcompany.kr/vod/widgets/\">장고 - 다양한 위젯 만들기</a></li>\n",
      "<li class=\"course\"><a href=\"https://www.askcompany.kr/vod/apiserver/\">장고 - API 서버 만들기 및 초간단 안드로이드 앱 만들기</a></li>\n",
      "<li class=\"course\"><a href=\"https://www.askcompany.kr/vod/hybrid/\">장고 - 하이브리드 앱 만들기</a></li>\n",
      "<li class=\"course\"><a href=\"https://www.askcompany.kr/vod/deploy/\">장고 - 서비스 배포하기</a></li>\n",
      "<li class=\"course\"><a href=\"https://www.askcompany.kr/vod/django-baemin/\">장고 - 실전편 (Feat. 배달의 민족 St. 만들기)</a></li>\n",
      "<li class=\"course\"><a href=\"https://www.askcompany.kr/vod/django-instagram/\">장고 - 실전편 (Feat. 인스타그램 St. 만들기)</a></li>\n",
      "</ul>, <ul>\n",
      "<li>위 VOD 코스의 코스명과 URL을 크롤링</li>\n",
      "<li>제약사항 : requests 라이브러리만을 사용하세요.</li>\n",
      "</ul>]\n"
     ]
    }
   ],
   "source": [
    "uls = bs_obj.find_all(\"ul\")\n",
    "print(uls)"
   ]
  },
  {
   "cell_type": "code",
   "execution_count": 13,
   "metadata": {},
   "outputs": [
    {
     "name": "stdout",
     "output_type": "stream",
     "text": [
      "<ul id=\"s2_course_list\">\n",
      "<li class=\"course\"><a href=\"https://www.askcompany.kr/r/sections/f04de5e/\">장고 2.0 주요 변경내역 살펴보기</a></li>\n",
      "<li class=\"course\"><a href=\"https://www.askcompany.kr/r/sections/dfc55e7/\">(기초편) 장고 차근차근 시작하기 2/E</a></li>\n",
      "<li class=\"course\"><a href=\"https://www.askcompany.kr/r/sections/5bb1344/\">(중급편) 장고 기본인증 뽀개기</a></li>\n",
      "<li class=\"course\"><a href=\"https://www.askcompany.kr/r/sections/72d2474/\">(중급편) 장고 Form/ModelForm 제대로 알고 쓰기</a></li>\n",
      "<li class=\"course\"><a href=\"https://www.askcompany.kr/r/sections/387169d/\">(중급편) 클래스 기반 뷰 잘 알고 쓰기</a></li>\n",
      "<li class=\"course\"><a href=\"https://www.askcompany.kr/r/sections/7d64b4a/\">(배포) 빠르게 살펴보는 Azure PaaS를 활용한 인프라 스트레스없는 웹서비스 배포</a></li>\n",
      "<li class=\"course\"><a href=\"https://www.askcompany.kr/r/sections/f5bf323/\">(초급) Pandas 워밍업</a></li>\n",
      "<li class=\"course\"><a href=\"https://www.askcompany.kr/r/sections/d8ccb08/\">(초급) 10 Minutes to Pandas 따라하기</a></li>\n",
      "<li class=\"course\"><a href=\"https://www.askcompany.kr/r/sections/d47e585/\">Google Dialogflow와 파이썬/장고를 활용하여, 카카오톡 챗봇 만들기 (초급편)</a></li>\n",
      "</ul>\n"
     ]
    }
   ],
   "source": [
    "print(uls[0])"
   ]
  },
  {
   "cell_type": "code",
   "execution_count": 14,
   "metadata": {},
   "outputs": [
    {
     "name": "stdout",
     "output_type": "stream",
     "text": [
      "<ul id=\"s1_course_list\">\n",
      "<li class=\"course\"><a href=\"https://www.askcompany.kr/vod/setup/\">개발환경 구축하기</a></li>\n",
      "<li class=\"course\"><a href=\"https://www.askcompany.kr/vod/python/\">파이썬 차근차근 시작하기</a></li>\n",
      "<li class=\"course\"><a href=\"https://www.askcompany.kr/vod/crawling/\">크롤링 차근차근 시작하기</a></li>\n",
      "<li class=\"course\"><a href=\"https://www.askcompany.kr/vod/automation/\">파이썬으로 업무 자동화</a></li>\n",
      "<li class=\"course\"><a href=\"https://www.askcompany.kr/vod/django/\">장고 - 기본편</a></li>\n",
      "<li class=\"course\"><a href=\"https://www.askcompany.kr/vod/djangogirls/\">장고걸스 튜토리얼</a></li>\n",
      "<li class=\"course\"><a href=\"https://www.askcompany.kr/vod/form/\">장고 - Form/ModelForm 잘 알고 쓰기</a></li>\n",
      "<li class=\"course\"><a href=\"https://www.askcompany.kr/vod/cbv/\">장고 - 클래스 기반 뷰. 잘 알고 쓰기</a></li>\n",
      "<li class=\"course\"><a href=\"https://www.askcompany.kr/vod/payment/\">장고 - 결제 시스템 연동</a></li>\n",
      "<li class=\"course\"><a href=\"https://www.askcompany.kr/vod/frontend/\">장고 - 웹 프론트엔드 시작편</a></li>\n",
      "<li class=\"course\"><a href=\"https://www.askcompany.kr/vod/widgets/\">장고 - 다양한 위젯 만들기</a></li>\n",
      "<li class=\"course\"><a href=\"https://www.askcompany.kr/vod/apiserver/\">장고 - API 서버 만들기 및 초간단 안드로이드 앱 만들기</a></li>\n",
      "<li class=\"course\"><a href=\"https://www.askcompany.kr/vod/hybrid/\">장고 - 하이브리드 앱 만들기</a></li>\n",
      "<li class=\"course\"><a href=\"https://www.askcompany.kr/vod/deploy/\">장고 - 서비스 배포하기</a></li>\n",
      "<li class=\"course\"><a href=\"https://www.askcompany.kr/vod/django-baemin/\">장고 - 실전편 (Feat. 배달의 민족 St. 만들기)</a></li>\n",
      "<li class=\"course\"><a href=\"https://www.askcompany.kr/vod/django-instagram/\">장고 - 실전편 (Feat. 인스타그램 St. 만들기)</a></li>\n",
      "</ul>\n"
     ]
    }
   ],
   "source": [
    "print(uls[1])"
   ]
  },
  {
   "cell_type": "code",
   "execution_count": 16,
   "metadata": {},
   "outputs": [
    {
     "name": "stdout",
     "output_type": "stream",
     "text": [
      "[[<li class=\"course\"><a href=\"https://www.askcompany.kr/r/sections/f04de5e/\">장고 2.0 주요 변경내역 살펴보기</a></li>, <li class=\"course\"><a href=\"https://www.askcompany.kr/r/sections/dfc55e7/\">(기초편) 장고 차근차근 시작하기 2/E</a></li>, <li class=\"course\"><a href=\"https://www.askcompany.kr/r/sections/5bb1344/\">(중급편) 장고 기본인증 뽀개기</a></li>, <li class=\"course\"><a href=\"https://www.askcompany.kr/r/sections/72d2474/\">(중급편) 장고 Form/ModelForm 제대로 알고 쓰기</a></li>, <li class=\"course\"><a href=\"https://www.askcompany.kr/r/sections/387169d/\">(중급편) 클래스 기반 뷰 잘 알고 쓰기</a></li>, <li class=\"course\"><a href=\"https://www.askcompany.kr/r/sections/7d64b4a/\">(배포) 빠르게 살펴보는 Azure PaaS를 활용한 인프라 스트레스없는 웹서비스 배포</a></li>, <li class=\"course\"><a href=\"https://www.askcompany.kr/r/sections/f5bf323/\">(초급) Pandas 워밍업</a></li>, <li class=\"course\"><a href=\"https://www.askcompany.kr/r/sections/d8ccb08/\">(초급) 10 Minutes to Pandas 따라하기</a></li>, <li class=\"course\"><a href=\"https://www.askcompany.kr/r/sections/d47e585/\">Google Dialogflow와 파이썬/장고를 활용하여, 카카오톡 챗봇 만들기 (초급편)</a></li>], [<li class=\"course\"><a href=\"https://www.askcompany.kr/vod/setup/\">개발환경 구축하기</a></li>, <li class=\"course\"><a href=\"https://www.askcompany.kr/vod/python/\">파이썬 차근차근 시작하기</a></li>, <li class=\"course\"><a href=\"https://www.askcompany.kr/vod/crawling/\">크롤링 차근차근 시작하기</a></li>, <li class=\"course\"><a href=\"https://www.askcompany.kr/vod/automation/\">파이썬으로 업무 자동화</a></li>, <li class=\"course\"><a href=\"https://www.askcompany.kr/vod/django/\">장고 - 기본편</a></li>, <li class=\"course\"><a href=\"https://www.askcompany.kr/vod/djangogirls/\">장고걸스 튜토리얼</a></li>, <li class=\"course\"><a href=\"https://www.askcompany.kr/vod/form/\">장고 - Form/ModelForm 잘 알고 쓰기</a></li>, <li class=\"course\"><a href=\"https://www.askcompany.kr/vod/cbv/\">장고 - 클래스 기반 뷰. 잘 알고 쓰기</a></li>, <li class=\"course\"><a href=\"https://www.askcompany.kr/vod/payment/\">장고 - 결제 시스템 연동</a></li>, <li class=\"course\"><a href=\"https://www.askcompany.kr/vod/frontend/\">장고 - 웹 프론트엔드 시작편</a></li>, <li class=\"course\"><a href=\"https://www.askcompany.kr/vod/widgets/\">장고 - 다양한 위젯 만들기</a></li>, <li class=\"course\"><a href=\"https://www.askcompany.kr/vod/apiserver/\">장고 - API 서버 만들기 및 초간단 안드로이드 앱 만들기</a></li>, <li class=\"course\"><a href=\"https://www.askcompany.kr/vod/hybrid/\">장고 - 하이브리드 앱 만들기</a></li>, <li class=\"course\"><a href=\"https://www.askcompany.kr/vod/deploy/\">장고 - 서비스 배포하기</a></li>, <li class=\"course\"><a href=\"https://www.askcompany.kr/vod/django-baemin/\">장고 - 실전편 (Feat. 배달의 민족 St. 만들기)</a></li>, <li class=\"course\"><a href=\"https://www.askcompany.kr/vod/django-instagram/\">장고 - 실전편 (Feat. 인스타그램 St. 만들기)</a></li>], [<li>위 VOD 코스의 코스명과 URL을 크롤링</li>, <li>제약사항 : requests 라이브러리만을 사용하세요.</li>]]\n"
     ]
    }
   ],
   "source": [
    "lis = [ul.find_all(\"li\") for ul in uls]\n",
    "print(lis)"
   ]
  },
  {
   "cell_type": "code",
   "execution_count": 27,
   "metadata": {},
   "outputs": [
    {
     "name": "stdout",
     "output_type": "stream",
     "text": [
      "[<a href=\"https://www.askcompany.kr/r/sections/f04de5e/\">장고 2.0 주요 변경내역 살펴보기</a>, <a href=\"https://www.askcompany.kr/r/sections/dfc55e7/\">(기초편) 장고 차근차근 시작하기 2/E</a>, <a href=\"https://www.askcompany.kr/r/sections/5bb1344/\">(중급편) 장고 기본인증 뽀개기</a>, <a href=\"https://www.askcompany.kr/r/sections/72d2474/\">(중급편) 장고 Form/ModelForm 제대로 알고 쓰기</a>, <a href=\"https://www.askcompany.kr/r/sections/387169d/\">(중급편) 클래스 기반 뷰 잘 알고 쓰기</a>, <a href=\"https://www.askcompany.kr/r/sections/7d64b4a/\">(배포) 빠르게 살펴보는 Azure PaaS를 활용한 인프라 스트레스없는 웹서비스 배포</a>, <a href=\"https://www.askcompany.kr/r/sections/f5bf323/\">(초급) Pandas 워밍업</a>, <a href=\"https://www.askcompany.kr/r/sections/d8ccb08/\">(초급) 10 Minutes to Pandas 따라하기</a>, <a href=\"https://www.askcompany.kr/r/sections/d47e585/\">Google Dialogflow와 파이썬/장고를 활용하여, 카카오톡 챗봇 만들기 (초급편)</a>, <a href=\"https://www.askcompany.kr/vod/setup/\">개발환경 구축하기</a>, <a href=\"https://www.askcompany.kr/vod/python/\">파이썬 차근차근 시작하기</a>, <a href=\"https://www.askcompany.kr/vod/crawling/\">크롤링 차근차근 시작하기</a>, <a href=\"https://www.askcompany.kr/vod/automation/\">파이썬으로 업무 자동화</a>, <a href=\"https://www.askcompany.kr/vod/django/\">장고 - 기본편</a>, <a href=\"https://www.askcompany.kr/vod/djangogirls/\">장고걸스 튜토리얼</a>, <a href=\"https://www.askcompany.kr/vod/form/\">장고 - Form/ModelForm 잘 알고 쓰기</a>, <a href=\"https://www.askcompany.kr/vod/cbv/\">장고 - 클래스 기반 뷰. 잘 알고 쓰기</a>, <a href=\"https://www.askcompany.kr/vod/payment/\">장고 - 결제 시스템 연동</a>, <a href=\"https://www.askcompany.kr/vod/frontend/\">장고 - 웹 프론트엔드 시작편</a>, <a href=\"https://www.askcompany.kr/vod/widgets/\">장고 - 다양한 위젯 만들기</a>, <a href=\"https://www.askcompany.kr/vod/apiserver/\">장고 - API 서버 만들기 및 초간단 안드로이드 앱 만들기</a>, <a href=\"https://www.askcompany.kr/vod/hybrid/\">장고 - 하이브리드 앱 만들기</a>, <a href=\"https://www.askcompany.kr/vod/deploy/\">장고 - 서비스 배포하기</a>, <a href=\"https://www.askcompany.kr/vod/django-baemin/\">장고 - 실전편 (Feat. 배달의 민족 St. 만들기)</a>, <a href=\"https://www.askcompany.kr/vod/django-instagram/\">장고 - 실전편 (Feat. 인스타그램 St. 만들기)</a>, <a href=\"/\">home</a>, <a href=\"https://www.askcompany.kr/vod/\">Ask Company VOD</a>]\n"
     ]
    }
   ],
   "source": [
    "a_tag = bs_obj.find_all(\"a\")\n",
    "print(a_tag)"
   ]
  },
  {
   "cell_type": "code",
   "execution_count": 28,
   "metadata": {},
   "outputs": [
    {
     "name": "stdout",
     "output_type": "stream",
     "text": [
      "장고 2.0 주요 변경내역 살펴보기\n",
      "(기초편) 장고 차근차근 시작하기 2/E\n",
      "(중급편) 장고 기본인증 뽀개기\n",
      "(중급편) 장고 Form/ModelForm 제대로 알고 쓰기\n",
      "(중급편) 클래스 기반 뷰 잘 알고 쓰기\n",
      "(배포) 빠르게 살펴보는 Azure PaaS를 활용한 인프라 스트레스없는 웹서비스 배포\n",
      "(초급) Pandas 워밍업\n",
      "(초급) 10 Minutes to Pandas 따라하기\n",
      "Google Dialogflow와 파이썬/장고를 활용하여, 카카오톡 챗봇 만들기 (초급편)\n",
      "개발환경 구축하기\n",
      "파이썬 차근차근 시작하기\n",
      "크롤링 차근차근 시작하기\n",
      "파이썬으로 업무 자동화\n",
      "장고 - 기본편\n",
      "장고걸스 튜토리얼\n",
      "장고 - Form/ModelForm 잘 알고 쓰기\n",
      "장고 - 클래스 기반 뷰. 잘 알고 쓰기\n",
      "장고 - 결제 시스템 연동\n",
      "장고 - 웹 프론트엔드 시작편\n",
      "장고 - 다양한 위젯 만들기\n",
      "장고 - API 서버 만들기 및 초간단 안드로이드 앱 만들기\n",
      "장고 - 하이브리드 앱 만들기\n",
      "장고 - 서비스 배포하기\n",
      "장고 - 실전편 (Feat. 배달의 민족 St. 만들기)\n",
      "장고 - 실전편 (Feat. 인스타그램 St. 만들기)\n",
      "home\n",
      "Ask Company VOD\n"
     ]
    }
   ],
   "source": [
    "for a in a_tag:\n",
    "    print(a.text)"
   ]
  },
  {
   "cell_type": "code",
   "execution_count": 36,
   "metadata": {},
   "outputs": [
    {
     "name": "stdout",
     "output_type": "stream",
     "text": [
      "장고 2.0 주요 변경내역 살펴보기 : https://www.askcompany.kr/r/sections/f04de5e/\n",
      "(기초편) 장고 차근차근 시작하기 2/E : https://www.askcompany.kr/r/sections/dfc55e7/\n",
      "(중급편) 장고 기본인증 뽀개기 : https://www.askcompany.kr/r/sections/5bb1344/\n",
      "(중급편) 장고 Form/ModelForm 제대로 알고 쓰기 : https://www.askcompany.kr/r/sections/72d2474/\n",
      "(중급편) 클래스 기반 뷰 잘 알고 쓰기 : https://www.askcompany.kr/r/sections/387169d/\n",
      "(배포) 빠르게 살펴보는 Azure PaaS를 활용한 인프라 스트레스없는 웹서비스 배포 : https://www.askcompany.kr/r/sections/7d64b4a/\n",
      "(초급) Pandas 워밍업 : https://www.askcompany.kr/r/sections/f5bf323/\n",
      "(초급) 10 Minutes to Pandas 따라하기 : https://www.askcompany.kr/r/sections/d8ccb08/\n",
      "Google Dialogflow와 파이썬/장고를 활용하여, 카카오톡 챗봇 만들기 (초급편) : https://www.askcompany.kr/r/sections/d47e585/\n",
      "개발환경 구축하기 : https://www.askcompany.kr/vod/setup/\n",
      "파이썬 차근차근 시작하기 : https://www.askcompany.kr/vod/python/\n",
      "크롤링 차근차근 시작하기 : https://www.askcompany.kr/vod/crawling/\n",
      "파이썬으로 업무 자동화 : https://www.askcompany.kr/vod/automation/\n",
      "장고 - 기본편 : https://www.askcompany.kr/vod/django/\n",
      "장고걸스 튜토리얼 : https://www.askcompany.kr/vod/djangogirls/\n",
      "장고 - Form/ModelForm 잘 알고 쓰기 : https://www.askcompany.kr/vod/form/\n",
      "장고 - 클래스 기반 뷰. 잘 알고 쓰기 : https://www.askcompany.kr/vod/cbv/\n",
      "장고 - 결제 시스템 연동 : https://www.askcompany.kr/vod/payment/\n",
      "장고 - 웹 프론트엔드 시작편 : https://www.askcompany.kr/vod/frontend/\n",
      "장고 - 다양한 위젯 만들기 : https://www.askcompany.kr/vod/widgets/\n",
      "장고 - API 서버 만들기 및 초간단 안드로이드 앱 만들기 : https://www.askcompany.kr/vod/apiserver/\n",
      "장고 - 하이브리드 앱 만들기 : https://www.askcompany.kr/vod/hybrid/\n",
      "장고 - 서비스 배포하기 : https://www.askcompany.kr/vod/deploy/\n",
      "장고 - 실전편 (Feat. 배달의 민족 St. 만들기) : https://www.askcompany.kr/vod/django-baemin/\n",
      "장고 - 실전편 (Feat. 인스타그램 St. 만들기) : https://www.askcompany.kr/vod/django-instagram/\n",
      "home : /\n",
      "Ask Company VOD : https://www.askcompany.kr/vod/\n"
     ]
    }
   ],
   "source": [
    "for a in a_tag:\n",
    "    print(a.text+\" : \"+str(a).split(\"\\\"\")[1])"
   ]
  },
  {
   "cell_type": "markdown",
   "metadata": {},
   "source": [
    "### 휴"
   ]
  },
  {
   "cell_type": "code",
   "execution_count": null,
   "metadata": {},
   "outputs": [],
   "source": []
  }
 ],
 "metadata": {
  "kernelspec": {
   "display_name": "Python [conda env:root]",
   "language": "python",
   "name": "conda-root-py"
  },
  "language_info": {
   "codemirror_mode": {
    "name": "ipython",
    "version": 3
   },
   "file_extension": ".py",
   "mimetype": "text/x-python",
   "name": "python",
   "nbconvert_exporter": "python",
   "pygments_lexer": "ipython3",
   "version": "3.7.1"
  }
 },
 "nbformat": 4,
 "nbformat_minor": 2
}
