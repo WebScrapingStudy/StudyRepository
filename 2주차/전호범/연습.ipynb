{
 "cells": [
  {
   "cell_type": "markdown",
   "metadata": {},
   "source": [
    "궁금해서 하는 최저기온 최고기온 가져오기"
   ]
  },
  {
   "cell_type": "code",
   "execution_count": 2,
   "metadata": {},
   "outputs": [],
   "source": [
    "import requests\n",
    "from bs4 import BeautifulSoup"
   ]
  },
  {
   "cell_type": "code",
   "execution_count": 3,
   "metadata": {},
   "outputs": [],
   "source": [
    "url = \"https://search.naver.com/search.naver?sm=top_hty&fbm=0&ie=utf8&query=%EB%82%A0%EC%94%A8\""
   ]
  },
  {
   "cell_type": "code",
   "execution_count": 4,
   "metadata": {},
   "outputs": [],
   "source": [
    "result = requests.get(url = url)\n",
    "\n",
    "bs_obj = BeautifulSoup(result.content,\"html.parser\")\n",
    "#print(bs_obj)"
   ]
  },
  {
   "cell_type": "code",
   "execution_count": 5,
   "metadata": {},
   "outputs": [
    {
     "name": "stdout",
     "output_type": "stream",
     "text": [
      "<span class=\"min\"><span class=\"num\">2</span>˚</span>\n"
     ]
    }
   ],
   "source": [
    "min_tem = bs_obj.find(\"span\",{\"class\":\"min\"})\n",
    "print(min_tem)"
   ]
  },
  {
   "cell_type": "code",
   "execution_count": 6,
   "metadata": {},
   "outputs": [
    {
     "name": "stdout",
     "output_type": "stream",
     "text": [
      "<span class=\"max\"><span class=\"num\">13</span>˚</span>\n"
     ]
    }
   ],
   "source": [
    "max_tem = bs_obj.find(\"span\",{\"class\":\"max\"})\n",
    "print(max_tem)"
   ]
  },
  {
   "cell_type": "code",
   "execution_count": 7,
   "metadata": {},
   "outputs": [
    {
     "name": "stdout",
     "output_type": "stream",
     "text": [
      "최저기온: 2˚\n",
      "최고기온: 13˚\n"
     ]
    }
   ],
   "source": [
    "print(\"최저기온: \"+min_tem.text+\"\\n최고기온: \"+max_tem.text)"
   ]
  }
 ],
 "metadata": {
  "kernelspec": {
   "display_name": "Python [conda env:root]",
   "language": "python",
   "name": "conda-root-py"
  },
  "language_info": {
   "codemirror_mode": {
    "name": "ipython",
    "version": 3
   },
   "file_extension": ".py",
   "mimetype": "text/x-python",
   "name": "python",
   "nbconvert_exporter": "python",
   "pygments_lexer": "ipython3",
   "version": "3.7.1"
  }
 },
 "nbformat": 4,
 "nbformat_minor": 2
}
