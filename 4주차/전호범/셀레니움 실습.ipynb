{
 "cells": [
  {
   "cell_type": "markdown",
   "metadata": {},
   "source": [
    "### 모듈 임포트"
   ]
  },
  {
   "cell_type": "code",
   "execution_count": 11,
   "metadata": {},
   "outputs": [],
   "source": [
    "from selenium import webdriver as wd"
   ]
  },
  {
   "cell_type": "code",
   "execution_count": 12,
   "metadata": {},
   "outputs": [],
   "source": [
    "driver = wd.Chrome(executable_path='chromedriver.exe')"
   ]
  },
  {
   "cell_type": "code",
   "execution_count": 13,
   "metadata": {},
   "outputs": [],
   "source": [
    "main_url = 'https://tour.interpark.com/'\n",
    "keyword = '로마'"
   ]
  },
  {
   "cell_type": "markdown",
   "metadata": {},
   "source": [
    "### 메인URL로 진입"
   ]
  },
  {
   "cell_type": "code",
   "execution_count": 14,
   "metadata": {},
   "outputs": [],
   "source": [
    "driver.get(main_url)"
   ]
  },
  {
   "cell_type": "markdown",
   "metadata": {},
   "source": [
    "id  - > class  - > 순서관계 \n",
    "순으로 찾아본다."
   ]
  },
  {
   "cell_type": "markdown",
   "metadata": {},
   "source": [
    "### 검색어 입력"
   ]
  },
  {
   "cell_type": "code",
   "execution_count": 16,
   "metadata": {},
   "outputs": [],
   "source": [
    "driver.find_element_by_id('SearchGNBText').send_keys(keyword)"
   ]
  },
  {
   "cell_type": "markdown",
   "metadata": {},
   "source": [
    "### 검색버튼 클릭"
   ]
  },
  {
   "cell_type": "code",
   "execution_count": 18,
   "metadata": {},
   "outputs": [],
   "source": [
    "driver.find_element_by_css_selector('button.search-btn').click()"
   ]
  },
  {
   "cell_type": "markdown",
   "metadata": {},
   "source": [
    "### 명시적 대기"
   ]
  },
  {
   "cell_type": "code",
   "execution_count": 19,
   "metadata": {},
   "outputs": [],
   "source": [
    "from selenium.webdriver.common.by import By\n",
    "from selenium.webdriver.support.ui import WebDriverWait\n",
    "from selenium.webdriver.support import expected_conditions as EC"
   ]
  },
  {
   "cell_type": "code",
   "execution_count": 25,
   "metadata": {},
   "outputs": [],
   "source": [
    "try: \n",
    "    element = WebDriverWait(driver, 10).until(\n",
    "        EC.presence_of_all_elements_located( (By.CLASS_NAME, 'oTravelBox') )\n",
    "    )\n",
    "except Exception as e:\n",
    "    print('오류 발생', e)"
   ]
  },
  {
   "cell_type": "markdown",
   "metadata": {},
   "source": [
    "### 암묵적 대기\n",
    "* 요소를 찾는 동안 DOM 풀링을 지시"
   ]
  },
  {
   "cell_type": "code",
   "execution_count": 27,
   "metadata": {},
   "outputs": [],
   "source": [
    "driver.implicitly_wait( 10 )"
   ]
  },
  {
   "cell_type": "code",
   "execution_count": 29,
   "metadata": {},
   "outputs": [],
   "source": [
    "driver.find_element_by_css_selector('.oTravelBox>.boxList>.moreBtnWrap>.moreBtn').click()"
   ]
  },
  {
   "cell_type": "markdown",
   "metadata": {},
   "source": [
    "### 상품 정보를 담는 클래스"
   ]
  },
  {
   "cell_type": "code",
   "execution_count": 82,
   "metadata": {},
   "outputs": [],
   "source": [
    "class TourInfo:\n",
    "    # 맴버변수\n",
    "    title = ''\n",
    "    price = ''\n",
    "    area = ''\n",
    "    link = ''\n",
    "    img = ''\n",
    "    # 생성자\n",
    "    def __init__(self,title,price,area,link,img):\n",
    "        self.title = title\n",
    "        self.price = price\n",
    "        self.area = area\n",
    "        self.link = link\n",
    "        self.img = img"
   ]
  },
  {
   "cell_type": "markdown",
   "metadata": {},
   "source": [
    "### 상품정보를 자바스크립트를 구동하여 수집"
   ]
  },
  {
   "cell_type": "code",
   "execution_count": 83,
   "metadata": {},
   "outputs": [],
   "source": [
    "import time\n",
    "\n",
    "#상품정보를 담는 리스트\n",
    "tour_list = []"
   ]
  },
  {
   "cell_type": "code",
   "execution_count": 85,
   "metadata": {},
   "outputs": [
    {
     "name": "stdout",
     "output_type": "stream",
     "text": [
      "1 페이지 이동\n",
      "2 페이지 이동\n",
      "3 페이지 이동\n",
      "4 페이지 이동\n",
      "5 페이지 이동\n",
      "6 페이지 이동\n",
      "7 페이지 이동\n",
      "8 페이지 이동\n",
      "9 페이지 이동\n",
      "130\n"
     ]
    }
   ],
   "source": [
    "\n",
    "for page in range(1,10):\n",
    "    try:\n",
    "        #자바스크립트 구동하기\n",
    "        driver.execute_script(\"searchModule.SetCategoryList(%s, '')\" % page)        \n",
    "        print(\"%s 페이지 이동\" % page)        \n",
    "        time.sleep(3)\n",
    "        # 여러 사이트에서 정보를 수집할 경우 공통정보 정의 단계 필요\n",
    "        # 상품명, 코멘트, 기간1, 기간2, 가격, 평점, 썸네일, 링크(상품상세정보)\n",
    "        boxItems = driver.find_elements_by_css_selector('.oTravelBox>.boxList>li')\n",
    "        for li in boxItems:\n",
    "#             print( '썸네임', li.find_element_by_css_selector('img').get_attribute('src'))\n",
    "#             print( '링크', li.find_element_by_css_selector('a').get_attribute('onclick'))\n",
    "#             print( '상품명', li.find_element_by_css_selector('h5.proTit').text )\n",
    "#             print( '코멘트', li.find_element_by_css_selector('.proSub').text )\n",
    "#             print( '가격', li.find_element_by_css_selector('.proPrice').text )\n",
    "#             for info in li.find_elements_by_css_selector('.info-row .proInfo'):\n",
    "#                 print( info.text )\n",
    "#             print( '=' *40 )\n",
    "            #데이터 모음\n",
    "            obj = TourInfo(\n",
    "                li.find_element_by_css_selector('h5.proTit').text,\n",
    "                li.find_element_by_css_selector('.proPrice').text,\n",
    "                li.find_elements_by_css_selector('.info-row .proInfo')[1].text,\n",
    "                li.find_element_by_css_selector('a').get_attribute('onclick'),\n",
    "                li.find_element_by_css_selector('img').get_attribute('src')\n",
    "            )\n",
    "            tour_list.append(obj)            \n",
    "    except Exception as e1:\n",
    "        print('오류',e1)\n",
    "print(len(tour_list))"
   ]
  },
  {
   "cell_type": "markdown",
   "metadata": {},
   "source": [
    "#### find_elements 에서 뒤에 s를 붙이면 리스트로 나온다!"
   ]
  },
  {
   "cell_type": "code",
   "execution_count": 62,
   "metadata": {},
   "outputs": [],
   "source": [
    "boxItems = driver.find_elements_by_css_selector('.oTravelBox>.boxList>li')"
   ]
  },
  {
   "cell_type": "code",
   "execution_count": 63,
   "metadata": {},
   "outputs": [
    {
     "name": "stdout",
     "output_type": "stream",
     "text": [
      "상품명 [영국 Benefit] 서유럽4국 10일_옥스포드/윈저 2DAY\n",
      "상품명 [융프라우VIP패스] 서유럽4국12일_남프랑스\n",
      "상품명 [전일정1급]몽트뢰&루체른/여름정원내부 스위스+이탈리아 9일\n",
      "상품명 [전일정1급]스위스/이탈리아 9일(몽트뢰+루체른/프라이부르크)\n",
      "상품명 [국적기/직항]서3국9일+베르사유/폼페이-10대특식\n",
      "상품명 [아시아나]서유럽3국9일_융프라우/바티칸하이패스\n",
      "상품명 ●전일정1급●스위스일주+이탈리아 9일/융프라우&체르마트\n",
      "상품명 [주말출도착]서유럽3국8일_리기산+루체른/베르사유\n",
      "상품명 [A380★두바이]서유럽4국10일/리기산+로마 아울렛\n",
      "상품명 ■전일정1급■융프라우&툰호수+체르마트 스위스/이탈리아 9일\n"
     ]
    }
   ],
   "source": [
    "for li in boxItems:\n",
    "    print('상품명', li.find_element_by_css_selector('h5.proTit').text)"
   ]
  },
  {
   "cell_type": "code",
   "execution_count": null,
   "metadata": {},
   "outputs": [],
   "source": []
  }
 ],
 "metadata": {
  "kernelspec": {
   "display_name": "Python 3",
   "language": "python",
   "name": "python3"
  },
  "language_info": {
   "codemirror_mode": {
    "name": "ipython",
    "version": 3
   },
   "file_extension": ".py",
   "mimetype": "text/x-python",
   "name": "python",
   "nbconvert_exporter": "python",
   "pygments_lexer": "ipython3",
   "version": "3.7.0"
  }
 },
 "nbformat": 4,
 "nbformat_minor": 2
}
